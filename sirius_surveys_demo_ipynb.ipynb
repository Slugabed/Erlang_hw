{
  "nbformat": 4,
  "nbformat_minor": 0,
  "metadata": {
    "colab": {
      "name": "Копия блокнота \"sirius-surveys-demo.ipynb\"",
      "provenance": [],
      "collapsed_sections": [
        "wMZdY-WdgUiB"
      ],
      "machine_shape": "hm",
      "include_colab_link": true
    },
    "kernelspec": {
      "name": "python3",
      "display_name": "Python 3"
    }
  },
  "cells": [
    {
      "cell_type": "markdown",
      "metadata": {
        "id": "view-in-github",
        "colab_type": "text"
      },
      "source": [
        "<a href=\"https://colab.research.google.com/github/Slugabed/Erlang_hw/blob/master/sirius_surveys_demo_ipynb.ipynb\" target=\"_parent\"><img src=\"https://colab.research.google.com/assets/colab-badge.svg\" alt=\"Open In Colab\"/></a>"
      ]
    },
    {
      "cell_type": "markdown",
      "metadata": {
        "id": "biwgamZkdFu0",
        "colab_type": "text"
      },
      "source": [
        "# Скачиваем данные"
      ]
    },
    {
      "cell_type": "code",
      "metadata": {
        "id": "eFwlNZ0GAK4Q",
        "colab_type": "code",
        "colab": {
          "base_uri": "https://localhost:8080/",
          "height": 53
        },
        "outputId": "eb93a850-d859-4e1b-823e-ef86905f2272"
      },
      "source": [
        "from google.colab import drive\n",
        "drive.mount('/content/drive')\n",
        "!cp '/content/drive/My Drive/sirius/token.txt' token.txt"
      ],
      "execution_count": null,
      "outputs": [
        {
          "output_type": "stream",
          "text": [
            "Drive already mounted at /content/drive; to attempt to forcibly remount, call drive.mount(\"/content/drive\", force_remount=True).\n"
          ],
          "name": "stdout"
        }
      ]
    },
    {
      "cell_type": "code",
      "metadata": {
        "id": "O-dnbFJzUMn-",
        "colab_type": "code",
        "colab": {}
      },
      "source": [
        "# !sudo apt-get install git-lfs\n",
        "with open('token.txt', 'r') as f:\n",
        "  auth_token = f.read()\n",
        "print(auth_token)\n",
        "!git lfs clone https://{auth_token}@github.com/xechehot/sirius-survey-data.git\n",
        "!git clone https://{auth_token}@github.com/xechehot/ordalium.git\n",
        "!find ./sirius-survey-data -name '*.tar.gz' -exec tar -xzvf '{}' \\;"
      ],
      "execution_count": null,
      "outputs": []
    },
    {
      "cell_type": "code",
      "metadata": {
        "id": "BUZq15Ie9Zu3",
        "colab_type": "code",
        "colab": {
          "base_uri": "https://localhost:8080/",
          "height": 50
        },
        "outputId": "e451f011-8398-49ef-d74f-94fdfd828af4"
      },
      "source": [
        "!find ./ordalium -name '*.tar.gz' -exec tar -xzvf '{}' \\;"
      ],
      "execution_count": null,
      "outputs": [
        {
          "output_type": "stream",
          "text": [
            "banners.csv\n",
            "questions.csv\n"
          ],
          "name": "stdout"
        }
      ]
    },
    {
      "cell_type": "code",
      "metadata": {
        "id": "WPHPBoRD7LC6",
        "colab_type": "code",
        "colab": {}
      },
      "source": [
        "!cp ordalium/common.py common.py"
      ],
      "execution_count": null,
      "outputs": []
    },
    {
      "cell_type": "markdown",
      "metadata": {
        "id": "oDRgumcfdXKk",
        "colab_type": "text"
      },
      "source": [
        "Читаем данные"
      ]
    },
    {
      "cell_type": "code",
      "metadata": {
        "id": "qR4_mxcMBnCy",
        "colab_type": "code",
        "colab": {}
      },
      "source": [
        "import pandas as pd\n",
        "import numpy as np\n",
        "from common import load_csv, normalize_events, make_question_table\n",
        "\n",
        "# !pip install pandas jupyter pandarallel tqdm\n",
        "\n",
        "# from tqdm import tqdm\n",
        "# tqdm.pandas()\n",
        "# from pandarallel import pandarallel\n",
        "# pandarallel.initialize(progress_bar=True, nb_workers=2)"
      ],
      "execution_count": 1,
      "outputs": []
    },
    {
      "cell_type": "code",
      "metadata": {
        "id": "_75FBd1kRq81",
        "colab_type": "code",
        "colab": {
          "base_uri": "https://localhost:8080/",
          "height": 70
        },
        "outputId": "697235d6-81de-4591-8027-e305a4de5fbc"
      },
      "source": [
        "df_surveys, df_events, df_orders, df_revisions = load_csv()"
      ],
      "execution_count": 2,
      "outputs": [
        {
          "output_type": "stream",
          "text": [
            "/usr/local/lib/python3.6/dist-packages/IPython/core/interactiveshell.py:2822: DtypeWarning: Columns (1,3,6) have mixed types.Specify dtype option on import or set low_memory=False.\n",
            "  if self.run_code(code, result):\n"
          ],
          "name": "stderr"
        }
      ]
    },
    {
      "cell_type": "code",
      "metadata": {
        "id": "MR4KsBCWzcFS",
        "colab_type": "code",
        "colab": {}
      },
      "source": [
        "banners_mask = df_events['campaign_type'] == 'banner' & (df_events.action_code == 1)\n",
        "video_mask = df_events['campaign_type'] == 'video' & (df_events.action_code == 1)\n",
        "toloka_mask = df_events['campaign_type'].isnull() & (df_events.action_code == 1)\n",
        "\n",
        "# extract banner interviews\n",
        "banner_survey_ids = df_events[banners_mask].index.get_level_values(0).unique()\n",
        "banner_interview_ids = df_events[banners_mask].index.get_level_values(1).unique()\n",
        "banners = df_events[df_events.index.get_level_values(0).isin(banner_survey_ids) \\\n",
        "            & df_events.index.get_level_values(1).isin(banner_interview_ids)]\n",
        "\n",
        "# extract videos\n",
        "video_survey_ids = df_events[video_mask].index.get_level_values(0).unique()\n",
        "video_interview_ids = df_events[video_mask].index.get_level_values(1).unique()\n",
        "videos = df_events[df_events.index.get_level_values(0).isin(video_survey_ids) \\\n",
        "        & df_events.index.get_level_values(1).isin(video_interview_ids)]\n",
        "\n",
        "# normalize videos\n",
        "# videos_normalized = normalize_ts(videos)\n",
        "# videos_normalized.to_csv('/content/drive/My Drive/sirius/videos.csv')\n",
        "\n",
        "\n",
        "#read normalized banners\n",
        "# banners = banners.reset_index().set_index(['survey_id', 'interview_id']).sort_values('ts')\n",
        "#banners_normalized = normalize_ts(banners)\n",
        "#banners_normalized.to_csv('/content/drive/My Drive/sirius/banners_4.csv')\n",
        "banners_normalized = pd.read_csv('banners.csv')\n",
        "banners_normalized['survey_id'] = banners_normalized['survey_id'].astype(np.uint64)\n",
        "banners_normalized = banners_normalized.reset_index().set_index(['survey_id', 'revision_id', 'question_id'])\n",
        "banners_normalized.index.set_levels([banners_normalized.index.levels[0].astype(int),\n",
        "                                                    banners_normalized.index.levels[1],\n",
        "                                                    banners_normalized.index.levels[2].astype(int)])\n",
        "banners_normalized_questions = banners_normalized.loc[~banners_normalized.index.get_level_values(2).isnull()]\n",
        "\n",
        "# questions\n",
        "# df_questions = df_revisions.groupby(['survey_id', 'revision_id']).apply(make_question_table)\n",
        "# df_questions.to_csv('/content/drive/My Drive/sirius/df_questions.csv')\n",
        "df_questions = pd.read_csv('questions.csv')\n",
        "df_questions = df_questions.reset_index(drop=True).set_index(['survey_id', 'revision_id', 'question_id'])\n",
        "\n",
        "# events expanded\n",
        "df_events_expanded = banners_normalized_questions.merge(df_questions, how='inner', left_index=True, right_index=True)\n",
        "\n",
        "video_events_expanded = pd.read_csv('video_events_expanded.csv') \\\n",
        "        .reset_index(drop=True).set_index(['survey_id',\t'revision_id',\t'interview_id'])"
      ],
      "execution_count": 3,
      "outputs": []
    },
    {
      "cell_type": "code",
      "metadata": {
        "id": "Q2fu_oDO8MIr",
        "colab_type": "code",
        "colab": {}
      },
      "source": [
        "entropy_videos = videos_4_answers_2.apply(lambda j: sum([x*np.log(x/sum(j.values()))/sum(j.values()) for x in j.values()]))\n",
        "entropy_banners = question_answers.apply(lambda j: sum([x*np.log(x/sum(j.values()))/sum(j.values()) for x in j.values()]))"
      ],
      "execution_count": 50,
      "outputs": []
    },
    {
      "cell_type": "code",
      "metadata": {
        "id": "JLZZIkaV-6DR",
        "colab_type": "code",
        "colab": {
          "base_uri": "https://localhost:8080/",
          "height": 478
        },
        "outputId": "51a09c64-e662-4c34-db7a-e60a3630c024"
      },
      "source": [
        "fig, axs = plt.subplots(2)\n",
        "axs[0].hist(entropy_videos, bins=30, label='video')\n",
        "axs[1].hist(entropy_banners, bins=30)"
      ],
      "execution_count": 54,
      "outputs": [
        {
          "output_type": "execute_result",
          "data": {
            "text/plain": [
              "(array([  7.,   6.,   9.,   4.,  17., 131., 143., 166., 173., 254., 241.,\n",
              "        207., 315., 250., 206., 228., 291., 217., 146.,  91., 191., 276.,\n",
              "        154., 108.,  74.,  37.,  34.,  13.,   4., 220.]),\n",
              " array([-2.29074444, -2.21438629, -2.13802815, -2.06167   , -1.98531185,\n",
              "        -1.9089537 , -1.83259555, -1.75623741, -1.67987926, -1.60352111,\n",
              "        -1.52716296, -1.45080481, -1.37444667, -1.29808852, -1.22173037,\n",
              "        -1.14537222, -1.06901407, -0.99265592, -0.91629778, -0.83993963,\n",
              "        -0.76358148, -0.68722333, -0.61086518, -0.53450704, -0.45814889,\n",
              "        -0.38179074, -0.30543259, -0.22907444, -0.1527163 , -0.07635815,\n",
              "         0.        ]),\n",
              " <a list of 30 Patch objects>)"
            ]
          },
          "metadata": {
            "tags": []
          },
          "execution_count": 54
        },
        {
          "output_type": "display_data",
          "data": {
            "image/png": "[encoded data removed]",
            "text/plain": [
              "<Figure size 432x288 with 2 Axes>"
            ]
          },
          "metadata": {
            "tags": [],
            "needs_background": "light"
          }
        }
      ]
    },
    {
      "cell_type": "markdown",
      "metadata": {
        "id": "hX32Gz_b1iN4",
        "colab_type": "text"
      },
      "source": [
        "Подсчет выбранных вариантов ответов."
      ]
    },
    {
      "cell_type": "code",
      "metadata": {
        "id": "yHDx2euKx5Xk",
        "colab_type": "code",
        "colab": {}
      },
      "source": [
        "from collections import defaultdict\n",
        "from collections.abc import Iterable\n",
        "from matplotlib import pyplot as plt\n",
        "\n",
        "\n",
        "def inc_dict(df, d, name):\n",
        "  if df is np.nan:\n",
        "    return\n",
        "  for i in df:\n",
        "    d[i] += 1\n",
        "\n",
        "\n",
        "def calc_responses(df):\n",
        "  result = defaultdict(lambda: 0)\n",
        "  df.option_ids.str.split(',').apply(inc_dict, args=(result, df.name))\n",
        "  return result\n",
        "\n",
        "# question_answers = df_events_expanded.groupby(['survey_id', 'revision_id', 'question_id']).apply(calc_responses)"
      ],
      "execution_count": 26,
      "outputs": []
    },
    {
      "cell_type": "markdown",
      "metadata": {
        "id": "od9rI58nx7h3",
        "colab_type": "text"
      },
      "source": [
        "Дальше мои черновые наброски, не смотреть)"
      ]
    },
    {
      "cell_type": "code",
      "metadata": {
        "id": "wkwWDGN8_JOg",
        "colab_type": "code",
        "colab": {
          "base_uri": "https://localhost:8080/",
          "height": 117
        },
        "outputId": "74c1ba56-a861-4907-dc47-0af6211326f2"
      },
      "source": [
        "df_events_expanded[df_events_expanded.interview_id == 11262651416569394865].loc[(70075, 1,)].option_ids.str.split(',')"
      ],
      "execution_count": null,
      "outputs": [
        {
          "output_type": "execute_result",
          "data": {
            "text/plain": [
              "question_id\n",
              "1.0    [2, 5]\n",
              "2.0      [11]\n",
              "3.0      [17]\n",
              "4.0      [23]\n",
              "Name: option_ids, dtype: object"
            ]
          },
          "metadata": {
            "tags": []
          },
          "execution_count": 31
        }
      ]
    },
    {
      "cell_type": "code",
      "metadata": {
        "id": "mWQl4pj1K-3C",
        "colab_type": "code",
        "colab": {}
      },
      "source": [
        "from collections import defaultdict\n",
        "from collections.abc import Iterable\n",
        "from matplotlib import pyplot as plt\n",
        "\n",
        "\n",
        "def inc_dict(df, d, name):\n",
        "  if df is np.nan:\n",
        "    return\n",
        "  for i in df:\n",
        "    d[i] += 1\n",
        "\n",
        "\n",
        "def calc_responses(df):\n",
        "  result = defaultdict(lambda: 0)\n",
        "  df.option_ids.str.split(',').apply(inc_dict, args=(result, df.name))\n",
        "  return result\n",
        "\n",
        "question_answers = df_events_expanded.groupby(['survey_id', 'revision_id', 'question_id']).apply(calc_responses)"
      ],
      "execution_count": 49,
      "outputs": []
    },
    {
      "cell_type": "code",
      "metadata": {
        "id": "o3C-Hp3nXBnj",
        "colab_type": "code",
        "colab": {
          "base_uri": "https://localhost:8080/",
          "height": 315
        },
        "outputId": "6b9fe472-e266-49bd-8be9-93bcce6b2543"
      },
      "source": [
        "some_answers = question_answers.loc[(70048, 3, 6.0)]\n",
        "plt.hist(some_answers.values(), label=some_answers.keys())\n"
      ],
      "execution_count": null,
      "outputs": [
        {
          "output_type": "execute_result",
          "data": {
            "text/plain": [
              "(array([1., 0., 0., 1., 0., 0., 1., 0., 2., 1.]),\n",
              " array([1. , 1.6, 2.2, 2.8, 3.4, 4. , 4.6, 5.2, 5.8, 6.4, 7. ]),\n",
              " <a list of 10 Patch objects>)"
            ]
          },
          "metadata": {
            "tags": []
          },
          "execution_count": 122
        },
        {
          "output_type": "display_data",
          "data": {
            "image/png": "[encoded data removed]",
            "text/plain": [
              "<Figure size 432x288 with 1 Axes>"
            ]
          },
          "metadata": {
            "tags": [],
            "needs_background": "light"
          }
        }
      ]
    },
    {
      "cell_type": "code",
      "metadata": {
        "id": "vetQYYd1wkBj",
        "colab_type": "code",
        "colab": {}
      },
      "source": [
        "entropy = question_answers.apply(lambda j: sum([x*np.log(x/sum(j.values()))/sum(j.values()) for x in j.values()]))"
      ],
      "execution_count": null,
      "outputs": []
    },
    {
      "cell_type": "code",
      "metadata": {
        "id": "Ds2o2Ir1xeJD",
        "colab_type": "code",
        "colab": {
          "base_uri": "https://localhost:8080/",
          "height": 281
        },
        "outputId": "b45cbc0b-9438-40f0-b113-79e96e911419"
      },
      "source": [
        "entropy.hist(bins=30, label='Entropy')"
      ],
      "execution_count": null,
      "outputs": [
        {
          "output_type": "execute_result",
          "data": {
            "text/plain": [
              "<matplotlib.axes._subplots.AxesSubplot at 0x7f29b600ed68>"
            ]
          },
          "metadata": {
            "tags": []
          },
          "execution_count": 139
        },
        {
          "output_type": "display_data",
          "data": {
            "image/png": "[encoded data removed]",
            "text/plain": [
              "<Figure size 432x288 with 1 Axes>"
            ]
          },
          "metadata": {
            "tags": [],
            "needs_background": "light"
          }
        }
      ]
    },
    {
      "cell_type": "code",
      "metadata": {
        "id": "yGoCAywCvxOl",
        "colab_type": "code",
        "colab": {
          "base_uri": "https://localhost:8080/",
          "height": 33
        },
        "outputId": "64827661-2404-4976-f5dd-9efa3e8ef377"
      },
      "source": [
        "# entropy \n",
        "sum_ = sum(some_answers.values())\n",
        "sum([x*np.log(x/sum_)/sum_ for x in some_answers.values()])"
      ],
      "execution_count": null,
      "outputs": [
        {
          "output_type": "execute_result",
          "data": {
            "text/plain": [
              "-1.672721970807394"
            ]
          },
          "metadata": {
            "tags": []
          },
          "execution_count": 129
        }
      ]
    },
    {
      "cell_type": "code",
      "metadata": {
        "id": "xzaNUcHPXIJU",
        "colab_type": "code",
        "colab": {
          "base_uri": "https://localhost:8080/",
          "height": 50
        },
        "outputId": "d2a9043e-f38e-4993-a12a-4bdadab813d2"
      },
      "source": [
        "some_answers"
      ],
      "execution_count": null,
      "outputs": [
        {
          "output_type": "execute_result",
          "data": {
            "text/plain": [
              "defaultdict(<function __main__.calc_responses.<locals>.<lambda>>,\n",
              "            {'-3': 6, '32': 5, '33': 6, '34': 1, '35': 3, '36': 7})"
            ]
          },
          "metadata": {
            "tags": []
          },
          "execution_count": 127
        }
      ]
    },
    {
      "cell_type": "code",
      "metadata": {
        "id": "2GGIcx_5B9B2",
        "colab_type": "code",
        "colab": {
          "base_uri": "https://localhost:8080/",
          "height": 33
        },
        "outputId": "bfbf64d5-406c-4e18-b145-b3407b0a7d90"
      },
      "source": [
        "import json\n",
        "\n",
        "list(map(lambda x: int(x['id']), json.loads(df_revisions[df_revisions.survey_id == 39220].iloc[-1].str_questions)['1']['options']))"
      ],
      "execution_count": null,
      "outputs": [
        {
          "output_type": "execute_result",
          "data": {
            "text/plain": [
              "[1, 2]"
            ]
          },
          "metadata": {
            "tags": []
          },
          "execution_count": 30
        }
      ]
    },
    {
      "cell_type": "code",
      "metadata": {
        "id": "ml1yZ5Krg7xJ",
        "colab_type": "code",
        "colab": {
          "base_uri": "https://localhost:8080/",
          "height": 353
        },
        "outputId": "f318aaa8-6983-4cbf-fbbe-e8f60e5f3695"
      },
      "source": [
        "# extract videos\n",
        "video_survey_ids = df_events[video_mask].index.get_level_values(0).unique()\n",
        "video_interview_ids = df_events[video_mask]['interview_id'].unique()\n",
        "videos = df_events[df_events.index.get_level_values(0).isin(video_survey_ids) & df_events['interview_id'].isin(video_interview_ids)]\n",
        "\n",
        "# normalize videos\n",
        "# videos_normalized = normalize_events(videos)\n",
        "# videos_normalized.to_csv('/content/drive/My Drive/sirius/videos.csv')"
      ],
      "execution_count": null,
      "outputs": [
        {
          "output_type": "error",
          "ename": "KeyError",
          "evalue": "ignored",
          "traceback": [
            "\u001b[0;31m---------------------------------------------------------------------------\u001b[0m",
            "\u001b[0;31mKeyError\u001b[0m                                  Traceback (most recent call last)",
            "\u001b[0;32m<ipython-input-25-93323ed88654>\u001b[0m in \u001b[0;36m<module>\u001b[0;34m()\u001b[0m\n\u001b[1;32m      5\u001b[0m \u001b[0;34m\u001b[0m\u001b[0m\n\u001b[1;32m      6\u001b[0m \u001b[0;31m# normalize videos\u001b[0m\u001b[0;34m\u001b[0m\u001b[0;34m\u001b[0m\u001b[0;34m\u001b[0m\u001b[0m\n\u001b[0;32m----> 7\u001b[0;31m \u001b[0mvideos_normalized\u001b[0m \u001b[0;34m=\u001b[0m \u001b[0mnormalize_events\u001b[0m\u001b[0;34m(\u001b[0m\u001b[0mvideos\u001b[0m\u001b[0;34m)\u001b[0m\u001b[0;34m\u001b[0m\u001b[0;34m\u001b[0m\u001b[0m\n\u001b[0m\u001b[1;32m      8\u001b[0m \u001b[0mvideos_normalized\u001b[0m\u001b[0;34m.\u001b[0m\u001b[0mto_csv\u001b[0m\u001b[0;34m(\u001b[0m\u001b[0;34m'/content/drive/My Drive/sirius/videos.csv'\u001b[0m\u001b[0;34m)\u001b[0m\u001b[0;34m\u001b[0m\u001b[0;34m\u001b[0m\u001b[0m\n",
            "\u001b[0;32m/content/common.py\u001b[0m in \u001b[0;36mnormalize_events\u001b[0;34m(df)\u001b[0m\n\u001b[1;32m    128\u001b[0m         \u001b[0;34m.\u001b[0m\u001b[0mgroupby\u001b[0m\u001b[0;34m(\u001b[0m\u001b[0;34m[\u001b[0m\u001b[0;34m'survey_id'\u001b[0m\u001b[0;34m,\u001b[0m \u001b[0;34m'interview_id'\u001b[0m\u001b[0;34m,\u001b[0m \u001b[0;34m'revision_id'\u001b[0m\u001b[0;34m]\u001b[0m\u001b[0;34m,\u001b[0m \u001b[0msort\u001b[0m\u001b[0;34m=\u001b[0m\u001b[0;32mFalse\u001b[0m\u001b[0;34m,\u001b[0m \u001b[0mas_index\u001b[0m\u001b[0;34m=\u001b[0m\u001b[0;32mFalse\u001b[0m\u001b[0;34m)\u001b[0m\u001b[0;31m \u001b[0m\u001b[0;31m\\\u001b[0m\u001b[0;34m\u001b[0m\u001b[0;34m\u001b[0m\u001b[0m\n\u001b[1;32m    129\u001b[0m         \u001b[0;34m.\u001b[0m\u001b[0mapply\u001b[0m\u001b[0;34m(\u001b[0m\u001b[0m__leave_only_last__\u001b[0m\u001b[0;34m)\u001b[0m\u001b[0;31m \u001b[0m\u001b[0;31m\\\u001b[0m\u001b[0;34m\u001b[0m\u001b[0;34m\u001b[0m\u001b[0m\n\u001b[0;32m--> 130\u001b[0;31m         \u001b[0;34m.\u001b[0m\u001b[0mgroupby\u001b[0m\u001b[0;34m(\u001b[0m\u001b[0;34m[\u001b[0m\u001b[0;34m'survey_id'\u001b[0m\u001b[0;34m,\u001b[0m \u001b[0;34m'interview_id'\u001b[0m\u001b[0;34m,\u001b[0m \u001b[0;34m'revision_id'\u001b[0m\u001b[0;34m]\u001b[0m\u001b[0;34m,\u001b[0m \u001b[0msort\u001b[0m\u001b[0;34m=\u001b[0m\u001b[0;32mFalse\u001b[0m\u001b[0;34m,\u001b[0m \u001b[0mas_index\u001b[0m\u001b[0;34m=\u001b[0m\u001b[0;32mFalse\u001b[0m\u001b[0;34m)\u001b[0m\u001b[0;31m \u001b[0m\u001b[0;31m\\\u001b[0m\u001b[0;34m\u001b[0m\u001b[0;34m\u001b[0m\u001b[0m\n\u001b[0m\u001b[1;32m    131\u001b[0m         \u001b[0;34m.\u001b[0m\u001b[0mapply\u001b[0m\u001b[0;34m(\u001b[0m\u001b[0m__make_time_intervals__\u001b[0m\u001b[0;34m)\u001b[0m\u001b[0;31m \u001b[0m\u001b[0;31m\\\u001b[0m\u001b[0;34m\u001b[0m\u001b[0;34m\u001b[0m\u001b[0m\n\u001b[1;32m    132\u001b[0m         \u001b[0;34m.\u001b[0m\u001b[0mreset_index\u001b[0m\u001b[0;34m(\u001b[0m\u001b[0mdrop\u001b[0m\u001b[0;34m=\u001b[0m\u001b[0;32mTrue\u001b[0m\u001b[0;34m)\u001b[0m\u001b[0;31m \u001b[0m\u001b[0;31m\\\u001b[0m\u001b[0;34m\u001b[0m\u001b[0;34m\u001b[0m\u001b[0m\n",
            "\u001b[0;32m/usr/local/lib/python3.6/dist-packages/pandas/core/frame.py\u001b[0m in \u001b[0;36mgroupby\u001b[0;34m(self, by, axis, level, as_index, sort, group_keys, squeeze, observed)\u001b[0m\n\u001b[1;32m   5808\u001b[0m             \u001b[0mgroup_keys\u001b[0m\u001b[0;34m=\u001b[0m\u001b[0mgroup_keys\u001b[0m\u001b[0;34m,\u001b[0m\u001b[0;34m\u001b[0m\u001b[0;34m\u001b[0m\u001b[0m\n\u001b[1;32m   5809\u001b[0m             \u001b[0msqueeze\u001b[0m\u001b[0;34m=\u001b[0m\u001b[0msqueeze\u001b[0m\u001b[0;34m,\u001b[0m\u001b[0;34m\u001b[0m\u001b[0;34m\u001b[0m\u001b[0m\n\u001b[0;32m-> 5810\u001b[0;31m             \u001b[0mobserved\u001b[0m\u001b[0;34m=\u001b[0m\u001b[0mobserved\u001b[0m\u001b[0;34m,\u001b[0m\u001b[0;34m\u001b[0m\u001b[0;34m\u001b[0m\u001b[0m\n\u001b[0m\u001b[1;32m   5811\u001b[0m         )\n\u001b[1;32m   5812\u001b[0m \u001b[0;34m\u001b[0m\u001b[0m\n",
            "\u001b[0;32m/usr/local/lib/python3.6/dist-packages/pandas/core/groupby/groupby.py\u001b[0m in \u001b[0;36m__init__\u001b[0;34m(self, obj, keys, axis, level, grouper, exclusions, selection, as_index, sort, group_keys, squeeze, observed, mutated)\u001b[0m\n\u001b[1;32m    408\u001b[0m                 \u001b[0msort\u001b[0m\u001b[0;34m=\u001b[0m\u001b[0msort\u001b[0m\u001b[0;34m,\u001b[0m\u001b[0;34m\u001b[0m\u001b[0;34m\u001b[0m\u001b[0m\n\u001b[1;32m    409\u001b[0m                 \u001b[0mobserved\u001b[0m\u001b[0;34m=\u001b[0m\u001b[0mobserved\u001b[0m\u001b[0;34m,\u001b[0m\u001b[0;34m\u001b[0m\u001b[0;34m\u001b[0m\u001b[0m\n\u001b[0;32m--> 410\u001b[0;31m                 \u001b[0mmutated\u001b[0m\u001b[0;34m=\u001b[0m\u001b[0mself\u001b[0m\u001b[0;34m.\u001b[0m\u001b[0mmutated\u001b[0m\u001b[0;34m,\u001b[0m\u001b[0;34m\u001b[0m\u001b[0;34m\u001b[0m\u001b[0m\n\u001b[0m\u001b[1;32m    411\u001b[0m             )\n\u001b[1;32m    412\u001b[0m \u001b[0;34m\u001b[0m\u001b[0m\n",
            "\u001b[0;32m/usr/local/lib/python3.6/dist-packages/pandas/core/groupby/grouper.py\u001b[0m in \u001b[0;36mget_grouper\u001b[0;34m(obj, key, axis, level, sort, observed, mutated, validate)\u001b[0m\n\u001b[1;32m    598\u001b[0m                 \u001b[0min_axis\u001b[0m\u001b[0;34m,\u001b[0m \u001b[0mname\u001b[0m\u001b[0;34m,\u001b[0m \u001b[0mlevel\u001b[0m\u001b[0;34m,\u001b[0m \u001b[0mgpr\u001b[0m \u001b[0;34m=\u001b[0m \u001b[0;32mFalse\u001b[0m\u001b[0;34m,\u001b[0m \u001b[0;32mNone\u001b[0m\u001b[0;34m,\u001b[0m \u001b[0mgpr\u001b[0m\u001b[0;34m,\u001b[0m \u001b[0;32mNone\u001b[0m\u001b[0;34m\u001b[0m\u001b[0;34m\u001b[0m\u001b[0m\n\u001b[1;32m    599\u001b[0m             \u001b[0;32melse\u001b[0m\u001b[0;34m:\u001b[0m\u001b[0;34m\u001b[0m\u001b[0;34m\u001b[0m\u001b[0m\n\u001b[0;32m--> 600\u001b[0;31m                 \u001b[0;32mraise\u001b[0m \u001b[0mKeyError\u001b[0m\u001b[0;34m(\u001b[0m\u001b[0mgpr\u001b[0m\u001b[0;34m)\u001b[0m\u001b[0;34m\u001b[0m\u001b[0;34m\u001b[0m\u001b[0m\n\u001b[0m\u001b[1;32m    601\u001b[0m         \u001b[0;32melif\u001b[0m \u001b[0misinstance\u001b[0m\u001b[0;34m(\u001b[0m\u001b[0mgpr\u001b[0m\u001b[0;34m,\u001b[0m \u001b[0mGrouper\u001b[0m\u001b[0;34m)\u001b[0m \u001b[0;32mand\u001b[0m \u001b[0mgpr\u001b[0m\u001b[0;34m.\u001b[0m\u001b[0mkey\u001b[0m \u001b[0;32mis\u001b[0m \u001b[0;32mnot\u001b[0m \u001b[0;32mNone\u001b[0m\u001b[0;34m:\u001b[0m\u001b[0;34m\u001b[0m\u001b[0;34m\u001b[0m\u001b[0m\n\u001b[1;32m    602\u001b[0m             \u001b[0;31m# Add key to exclusions\u001b[0m\u001b[0;34m\u001b[0m\u001b[0;34m\u001b[0m\u001b[0;34m\u001b[0m\u001b[0m\n",
            "\u001b[0;31mKeyError\u001b[0m: 'survey_id'"
          ]
        }
      ]
    },
    {
      "cell_type": "code",
      "metadata": {
        "id": "OBogfYS0-i3A",
        "colab_type": "code",
        "colab": {
          "base_uri": "https://localhost:8080/",
          "height": 216
        },
        "outputId": "9ac6568e-beeb-4e1f-da9c-b147b47bcca0"
      },
      "source": [
        "videos.loc[[(39106, 218590411960607104, 1)]]"
      ],
      "execution_count": null,
      "outputs": [
        {
          "output_type": "execute_result",
          "data": {
            "text/html": [
              "<div>\n",
              "<style scoped>\n",
              "    .dataframe tbody tr th:only-of-type {\n",
              "        vertical-align: middle;\n",
              "    }\n",
              "\n",
              "    .dataframe tbody tr th {\n",
              "        vertical-align: top;\n",
              "    }\n",
              "\n",
              "    .dataframe thead th {\n",
              "        text-align: right;\n",
              "    }\n",
              "</style>\n",
              "<table border=\"1\" class=\"dataframe\">\n",
              "  <thead>\n",
              "    <tr style=\"text-align: right;\">\n",
              "      <th></th>\n",
              "      <th></th>\n",
              "      <th></th>\n",
              "      <th>action_code</th>\n",
              "      <th>campaign_type</th>\n",
              "      <th>option_ids</th>\n",
              "      <th>page_from</th>\n",
              "      <th>page_to</th>\n",
              "      <th>question_answer_text</th>\n",
              "      <th>question_id</th>\n",
              "      <th>seq_num</th>\n",
              "      <th>ts</th>\n",
              "    </tr>\n",
              "    <tr>\n",
              "      <th>survey_id</th>\n",
              "      <th>interview_id</th>\n",
              "      <th>revision_id</th>\n",
              "      <th></th>\n",
              "      <th></th>\n",
              "      <th></th>\n",
              "      <th></th>\n",
              "      <th></th>\n",
              "      <th></th>\n",
              "      <th></th>\n",
              "      <th></th>\n",
              "      <th></th>\n",
              "    </tr>\n",
              "  </thead>\n",
              "  <tbody>\n",
              "    <tr>\n",
              "      <th rowspan=\"4\" valign=\"top\">39106</th>\n",
              "      <th rowspan=\"4\" valign=\"top\">218590411960607104</th>\n",
              "      <th>1</th>\n",
              "      <td>2</td>\n",
              "      <td>NaN</td>\n",
              "      <td>2</td>\n",
              "      <td>NaN</td>\n",
              "      <td>NaN</td>\n",
              "      <td>NaN</td>\n",
              "      <td>1</td>\n",
              "      <td>2</td>\n",
              "      <td>1592575790011000</td>\n",
              "    </tr>\n",
              "    <tr>\n",
              "      <th>1</th>\n",
              "      <td>3</td>\n",
              "      <td>NaN</td>\n",
              "      <td>NaN</td>\n",
              "      <td>NaN</td>\n",
              "      <td>NaN</td>\n",
              "      <td>NaN</td>\n",
              "      <td>0</td>\n",
              "      <td>3</td>\n",
              "      <td>1592575791327000</td>\n",
              "    </tr>\n",
              "    <tr>\n",
              "      <th>1</th>\n",
              "      <td>2</td>\n",
              "      <td>NaN</td>\n",
              "      <td>2</td>\n",
              "      <td>NaN</td>\n",
              "      <td>NaN</td>\n",
              "      <td>NaN</td>\n",
              "      <td>1</td>\n",
              "      <td>3</td>\n",
              "      <td>1592575791327000</td>\n",
              "    </tr>\n",
              "    <tr>\n",
              "      <th>1</th>\n",
              "      <td>1</td>\n",
              "      <td>video</td>\n",
              "      <td>NaN</td>\n",
              "      <td>NaN</td>\n",
              "      <td>NaN</td>\n",
              "      <td>NaN</td>\n",
              "      <td>0</td>\n",
              "      <td>1</td>\n",
              "      <td>1592575781920000</td>\n",
              "    </tr>\n",
              "  </tbody>\n",
              "</table>\n",
              "</div>"
            ],
            "text/plain": [
              "                                          action_code  ...                ts\n",
              "survey_id interview_id       revision_id               ...                  \n",
              "39106     218590411960607104 1                      2  ...  1592575790011000\n",
              "                             1                      3  ...  1592575791327000\n",
              "                             1                      2  ...  1592575791327000\n",
              "                             1                      1  ...  1592575781920000\n",
              "\n",
              "[4 rows x 9 columns]"
            ]
          },
          "metadata": {
            "tags": []
          },
          "execution_count": 4
        }
      ]
    },
    {
      "cell_type": "markdown",
      "metadata": {
        "id": "Wg0r9hxPSdzf",
        "colab_type": "text"
      },
      "source": [
        ""
      ]
    },
    {
      "cell_type": "code",
      "metadata": {
        "id": "K1NVurp2XMXP",
        "colab_type": "code",
        "colab": {}
      },
      "source": [
        "import random\n",
        "idxs = random.sample(range(banners_normalized.shape[0]), 150000)\n",
        "b_ = banners_normalized.iloc[idxs].merge(df_questions, how='inner', left_index=True, right_index=True)"
      ],
      "execution_count": null,
      "outputs": []
    },
    {
      "cell_type": "code",
      "metadata": {
        "id": "XXHxAhz0Z4am",
        "colab_type": "code",
        "colab": {
          "base_uri": "https://localhost:8080/",
          "height": 298
        },
        "outputId": "2f7306c8-154a-4952-f542-5a38002d6e31"
      },
      "source": [
        "(banners_normalized_.query('intervals < 30000000')['intervals'] /10**6).plot.hist(bins=60, title='Questions time, seconds')"
      ],
      "execution_count": null,
      "outputs": [
        {
          "output_type": "execute_result",
          "data": {
            "text/plain": [
              "<matplotlib.axes._subplots.AxesSubplot at 0x7fdbaa5b2ba8>"
            ]
          },
          "metadata": {
            "tags": []
          },
          "execution_count": 104
        },
        {
          "output_type": "display_data",
          "data": {
            "image/png": "[encoded data removed]",
            "text/plain": [
              "<Figure size 432x288 with 1 Axes>"
            ]
          },
          "metadata": {
            "tags": [],
            "needs_background": "light"
          }
        }
      ]
    },
    {
      "cell_type": "code",
      "metadata": {
        "id": "taBUVAtTyyiU",
        "colab_type": "code",
        "colab": {}
      },
      "source": [
        "(df_events_expanded[df_events_expanded['intervals'] >= 5330000000]['intervals'] /10**6).plot.hist(bins=60, title='Questions time, seconds')"
      ],
      "execution_count": null,
      "outputs": []
    },
    {
      "cell_type": "code",
      "metadata": {
        "id": "hgMxy7YMX8cU",
        "colab_type": "code",
        "colab": {
          "base_uri": "https://localhost:8080/",
          "height": 470
        },
        "outputId": "b2422b88-4b56-47d4-9390-8e53d8b0a1d8"
      },
      "source": [
        "banners_normalized"
      ],
      "execution_count": null,
      "outputs": [
        {
          "output_type": "execute_result",
          "data": {
            "text/html": [
              "<div>\n",
              "<style scoped>\n",
              "    .dataframe tbody tr th:only-of-type {\n",
              "        vertical-align: middle;\n",
              "    }\n",
              "\n",
              "    .dataframe tbody tr th {\n",
              "        vertical-align: top;\n",
              "    }\n",
              "\n",
              "    .dataframe thead th {\n",
              "        text-align: right;\n",
              "    }\n",
              "</style>\n",
              "<table border=\"1\" class=\"dataframe\">\n",
              "  <thead>\n",
              "    <tr style=\"text-align: right;\">\n",
              "      <th></th>\n",
              "      <th></th>\n",
              "      <th></th>\n",
              "      <th>index</th>\n",
              "      <th>interview_id</th>\n",
              "      <th>action_code</th>\n",
              "      <th>campaign_type</th>\n",
              "      <th>option_ids</th>\n",
              "      <th>page_from</th>\n",
              "      <th>page_to</th>\n",
              "      <th>question_answer_text</th>\n",
              "      <th>seq_num</th>\n",
              "      <th>ts</th>\n",
              "      <th>intervals</th>\n",
              "    </tr>\n",
              "    <tr>\n",
              "      <th>survey_id</th>\n",
              "      <th>revision_id</th>\n",
              "      <th>question_id</th>\n",
              "      <th></th>\n",
              "      <th></th>\n",
              "      <th></th>\n",
              "      <th></th>\n",
              "      <th></th>\n",
              "      <th></th>\n",
              "      <th></th>\n",
              "      <th></th>\n",
              "      <th></th>\n",
              "      <th></th>\n",
              "      <th></th>\n",
              "    </tr>\n",
              "  </thead>\n",
              "  <tbody>\n",
              "    <tr>\n",
              "      <th rowspan=\"5\" valign=\"top\">39220</th>\n",
              "      <th rowspan=\"5\" valign=\"top\">8</th>\n",
              "      <th>NaN</th>\n",
              "      <td>0</td>\n",
              "      <td>14680260041828185980</td>\n",
              "      <td>1.0</td>\n",
              "      <td>banner</td>\n",
              "      <td>NaN</td>\n",
              "      <td>NaN</td>\n",
              "      <td>NaN</td>\n",
              "      <td>NaN</td>\n",
              "      <td>1</td>\n",
              "      <td>1570736641522000</td>\n",
              "      <td>0</td>\n",
              "    </tr>\n",
              "    <tr>\n",
              "      <th>1.0</th>\n",
              "      <td>1</td>\n",
              "      <td>14680260041828185980</td>\n",
              "      <td>2.0</td>\n",
              "      <td>banner</td>\n",
              "      <td>1</td>\n",
              "      <td>NaN</td>\n",
              "      <td>NaN</td>\n",
              "      <td>NaN</td>\n",
              "      <td>2</td>\n",
              "      <td>1570736649885000</td>\n",
              "      <td>8363000</td>\n",
              "    </tr>\n",
              "    <tr>\n",
              "      <th>NaN</th>\n",
              "      <td>2</td>\n",
              "      <td>14680260041828185980</td>\n",
              "      <td>3.0</td>\n",
              "      <td>banner</td>\n",
              "      <td>NaN</td>\n",
              "      <td>NaN</td>\n",
              "      <td>NaN</td>\n",
              "      <td>NaN</td>\n",
              "      <td>3</td>\n",
              "      <td>1570736650697000</td>\n",
              "      <td>812000</td>\n",
              "    </tr>\n",
              "    <tr>\n",
              "      <th>NaN</th>\n",
              "      <td>3</td>\n",
              "      <td>1295672499478961256</td>\n",
              "      <td>1.0</td>\n",
              "      <td>banner</td>\n",
              "      <td>NaN</td>\n",
              "      <td>NaN</td>\n",
              "      <td>NaN</td>\n",
              "      <td>NaN</td>\n",
              "      <td>1</td>\n",
              "      <td>1570736801189000</td>\n",
              "      <td>0</td>\n",
              "    </tr>\n",
              "    <tr>\n",
              "      <th>NaN</th>\n",
              "      <td>4</td>\n",
              "      <td>3335886879524043949</td>\n",
              "      <td>1.0</td>\n",
              "      <td>banner</td>\n",
              "      <td>NaN</td>\n",
              "      <td>NaN</td>\n",
              "      <td>NaN</td>\n",
              "      <td>NaN</td>\n",
              "      <td>1</td>\n",
              "      <td>1570736860425000</td>\n",
              "      <td>0</td>\n",
              "    </tr>\n",
              "    <tr>\n",
              "      <th>...</th>\n",
              "      <th>...</th>\n",
              "      <th>...</th>\n",
              "      <td>...</td>\n",
              "      <td>...</td>\n",
              "      <td>...</td>\n",
              "      <td>...</td>\n",
              "      <td>...</td>\n",
              "      <td>...</td>\n",
              "      <td>...</td>\n",
              "      <td>...</td>\n",
              "      <td>...</td>\n",
              "      <td>...</td>\n",
              "      <td>...</td>\n",
              "    </tr>\n",
              "    <tr>\n",
              "      <th rowspan=\"5\" valign=\"top\">69590</th>\n",
              "      <th rowspan=\"5\" valign=\"top\">3</th>\n",
              "      <th>NaN</th>\n",
              "      <td>1880329</td>\n",
              "      <td>10638315183456530420</td>\n",
              "      <td>4.0</td>\n",
              "      <td>banner</td>\n",
              "      <td>NaN</td>\n",
              "      <td>2.0</td>\n",
              "      <td>3.0</td>\n",
              "      <td>NaN</td>\n",
              "      <td>5</td>\n",
              "      <td>1593482324225000</td>\n",
              "      <td>772000</td>\n",
              "    </tr>\n",
              "    <tr>\n",
              "      <th>3.0</th>\n",
              "      <td>1880330</td>\n",
              "      <td>10638315183456530420</td>\n",
              "      <td>2.0</td>\n",
              "      <td>banner</td>\n",
              "      <td>14</td>\n",
              "      <td>NaN</td>\n",
              "      <td>NaN</td>\n",
              "      <td>NaN</td>\n",
              "      <td>6</td>\n",
              "      <td>1593482330999000</td>\n",
              "      <td>6774000</td>\n",
              "    </tr>\n",
              "    <tr>\n",
              "      <th>NaN</th>\n",
              "      <td>1880331</td>\n",
              "      <td>10638315183456530420</td>\n",
              "      <td>4.0</td>\n",
              "      <td>banner</td>\n",
              "      <td>NaN</td>\n",
              "      <td>3.0</td>\n",
              "      <td>4.0</td>\n",
              "      <td>NaN</td>\n",
              "      <td>7</td>\n",
              "      <td>1593482332059000</td>\n",
              "      <td>1060000</td>\n",
              "    </tr>\n",
              "    <tr>\n",
              "      <th>4.0</th>\n",
              "      <td>1880332</td>\n",
              "      <td>10638315183456530420</td>\n",
              "      <td>2.0</td>\n",
              "      <td>banner</td>\n",
              "      <td>19</td>\n",
              "      <td>NaN</td>\n",
              "      <td>NaN</td>\n",
              "      <td>NaN</td>\n",
              "      <td>8</td>\n",
              "      <td>1593482335675000</td>\n",
              "      <td>3616000</td>\n",
              "    </tr>\n",
              "    <tr>\n",
              "      <th>NaN</th>\n",
              "      <td>1880333</td>\n",
              "      <td>10638315183456530420</td>\n",
              "      <td>3.0</td>\n",
              "      <td>banner</td>\n",
              "      <td>NaN</td>\n",
              "      <td>NaN</td>\n",
              "      <td>NaN</td>\n",
              "      <td>NaN</td>\n",
              "      <td>9</td>\n",
              "      <td>1593482336454000</td>\n",
              "      <td>779000</td>\n",
              "    </tr>\n",
              "  </tbody>\n",
              "</table>\n",
              "<p>1880334 rows × 11 columns</p>\n",
              "</div>"
            ],
            "text/plain": [
              "                                     index  ...  intervals\n",
              "survey_id revision_id question_id           ...           \n",
              "39220     8           NaN                0  ...          0\n",
              "                      1.0                1  ...    8363000\n",
              "                      NaN                2  ...     812000\n",
              "                      NaN                3  ...          0\n",
              "                      NaN                4  ...          0\n",
              "...                                    ...  ...        ...\n",
              "69590     3           NaN          1880329  ...     772000\n",
              "                      3.0          1880330  ...    6774000\n",
              "                      NaN          1880331  ...    1060000\n",
              "                      4.0          1880332  ...    3616000\n",
              "                      NaN          1880333  ...     779000\n",
              "\n",
              "[1880334 rows x 11 columns]"
            ]
          },
          "metadata": {
            "tags": []
          },
          "execution_count": 12
        }
      ]
    },
    {
      "cell_type": "markdown",
      "metadata": {
        "id": "CVVkKJGVe0Hp",
        "colab_type": "text"
      },
      "source": [
        "___"
      ]
    },
    {
      "cell_type": "code",
      "metadata": {
        "id": "klYwt-KngncK",
        "colab_type": "code",
        "colab": {
          "base_uri": "https://localhost:8080/",
          "height": 34
        },
        "outputId": "16ffc990-f054-4167-91c5-ba4175fe4411"
      },
      "source": [
        "(df_events['campaign_type'] == 'video').sum(), (df_events['campaign_type'] == 'banner').sum(),\\\n",
        "(df_events['campaign_type'].isnull()).sum()"
      ],
      "execution_count": null,
      "outputs": [
        {
          "output_type": "execute_result",
          "data": {
            "text/plain": [
              "(1135703, 604601, 15627281)"
            ]
          },
          "metadata": {
            "tags": []
          },
          "execution_count": 48
        }
      ]
    },
    {
      "cell_type": "markdown",
      "metadata": {
        "id": "8UHT0KoHgLFx",
        "colab_type": "text"
      },
      "source": [
        "___"
      ]
    },
    {
      "cell_type": "markdown",
      "metadata": {
        "id": "wMZdY-WdgUiB",
        "colab_type": "text"
      },
      "source": [
        "#@Анализ данных"
      ]
    },
    {
      "cell_type": "code",
      "metadata": {
        "id": "mmNfg9YWUoOW",
        "colab_type": "code",
        "colab": {
          "base_uri": "https://localhost:8080/",
          "height": 282
        },
        "outputId": "bcead2cd-fe4d-4aa6-a836-1763b2e24831"
      },
      "source": [
        "df_orders.groupby(['survey_id', 'supplier_id']).size().hist()"
      ],
      "execution_count": null,
      "outputs": [
        {
          "output_type": "execute_result",
          "data": {
            "text/plain": [
              "<matplotlib.axes._subplots.AxesSubplot at 0x7f0948584630>"
            ]
          },
          "metadata": {
            "tags": []
          },
          "execution_count": 97
        },
        {
          "output_type": "display_data",
          "data": {
            "image/png": "[encoded data removed]",
            "text/plain": [
              "<Figure size 432x288 with 1 Axes>"
            ]
          },
          "metadata": {
            "tags": [],
            "needs_background": "light"
          }
        }
      ]
    },
    {
      "cell_type": "code",
      "metadata": {
        "id": "8A3HG0mYWBOY",
        "colab_type": "code",
        "colab": {
          "base_uri": "https://localhost:8080/",
          "height": 34
        },
        "outputId": "559be00a-f89c-42be-b13a-9fece31e6725"
      },
      "source": [
        "df_events_['campaign_type'].unique()"
      ],
      "execution_count": null,
      "outputs": [
        {
          "output_type": "execute_result",
          "data": {
            "text/plain": [
              "array([nan, 'video', 'banner'], dtype=object)"
            ]
          },
          "metadata": {
            "tags": []
          },
          "execution_count": 91
        }
      ]
    },
    {
      "cell_type": "code",
      "metadata": {
        "id": "mZBk1ehNUqQL",
        "colab_type": "code",
        "colab": {
          "base_uri": "https://localhost:8080/",
          "height": 402
        },
        "outputId": "c90f3350-5cb7-4dc9-8a37-8a32e5b6b8b0"
      },
      "source": [
        "df_events"
      ],
      "execution_count": null,
      "outputs": [
        {
          "output_type": "execute_result",
          "data": {
            "text/html": [
              "<div>\n",
              "<style scoped>\n",
              "    .dataframe tbody tr th:only-of-type {\n",
              "        vertical-align: middle;\n",
              "    }\n",
              "\n",
              "    .dataframe tbody tr th {\n",
              "        vertical-align: top;\n",
              "    }\n",
              "\n",
              "    .dataframe thead th {\n",
              "        text-align: right;\n",
              "    }\n",
              "</style>\n",
              "<table border=\"1\" class=\"dataframe\">\n",
              "  <thead>\n",
              "    <tr style=\"text-align: right;\">\n",
              "      <th></th>\n",
              "      <th>action_code</th>\n",
              "      <th>campaign_type</th>\n",
              "      <th>interview_id</th>\n",
              "      <th>option_ids</th>\n",
              "      <th>page_from</th>\n",
              "      <th>page_to</th>\n",
              "      <th>question_answer_text</th>\n",
              "      <th>question_id</th>\n",
              "      <th>revision_id</th>\n",
              "      <th>seq_num</th>\n",
              "      <th>survey_id</th>\n",
              "      <th>ts</th>\n",
              "    </tr>\n",
              "  </thead>\n",
              "  <tbody>\n",
              "    <tr>\n",
              "      <th>0</th>\n",
              "      <td>2</td>\n",
              "      <td>NaN</td>\n",
              "      <td>229702692780707224</td>\n",
              "      <td>20</td>\n",
              "      <td>&lt;NA&gt;</td>\n",
              "      <td>&lt;NA&gt;</td>\n",
              "      <td>&lt;NA&gt;</td>\n",
              "      <td>9</td>\n",
              "      <td>2</td>\n",
              "      <td>20</td>\n",
              "      <td>33073</td>\n",
              "      <td>1576770102414000</td>\n",
              "    </tr>\n",
              "    <tr>\n",
              "      <th>1</th>\n",
              "      <td>2</td>\n",
              "      <td>NaN</td>\n",
              "      <td>229702692780707224</td>\n",
              "      <td>107</td>\n",
              "      <td>&lt;NA&gt;</td>\n",
              "      <td>&lt;NA&gt;</td>\n",
              "      <td>&lt;NA&gt;</td>\n",
              "      <td>20</td>\n",
              "      <td>2</td>\n",
              "      <td>25</td>\n",
              "      <td>33073</td>\n",
              "      <td>1576770222923000</td>\n",
              "    </tr>\n",
              "    <tr>\n",
              "      <th>2</th>\n",
              "      <td>1</td>\n",
              "      <td>NaN</td>\n",
              "      <td>229702692780707224</td>\n",
              "      <td>&lt;NA&gt;</td>\n",
              "      <td>&lt;NA&gt;</td>\n",
              "      <td>&lt;NA&gt;</td>\n",
              "      <td>&lt;NA&gt;</td>\n",
              "      <td>&lt;NA&gt;</td>\n",
              "      <td>2</td>\n",
              "      <td>1</td>\n",
              "      <td>33073</td>\n",
              "      <td>1576769716990000</td>\n",
              "    </tr>\n",
              "    <tr>\n",
              "      <th>3</th>\n",
              "      <td>2</td>\n",
              "      <td>NaN</td>\n",
              "      <td>229702692780707224</td>\n",
              "      <td>&lt;NA&gt;</td>\n",
              "      <td>&lt;NA&gt;</td>\n",
              "      <td>&lt;NA&gt;</td>\n",
              "      <td>40</td>\n",
              "      <td>1</td>\n",
              "      <td>2</td>\n",
              "      <td>25</td>\n",
              "      <td>33073</td>\n",
              "      <td>1576770222923000</td>\n",
              "    </tr>\n",
              "    <tr>\n",
              "      <th>4</th>\n",
              "      <td>2</td>\n",
              "      <td>NaN</td>\n",
              "      <td>229702692780707224</td>\n",
              "      <td>1</td>\n",
              "      <td>&lt;NA&gt;</td>\n",
              "      <td>&lt;NA&gt;</td>\n",
              "      <td>&lt;NA&gt;</td>\n",
              "      <td>2</td>\n",
              "      <td>2</td>\n",
              "      <td>25</td>\n",
              "      <td>33073</td>\n",
              "      <td>1576770222923000</td>\n",
              "    </tr>\n",
              "    <tr>\n",
              "      <th>...</th>\n",
              "      <td>...</td>\n",
              "      <td>...</td>\n",
              "      <td>...</td>\n",
              "      <td>...</td>\n",
              "      <td>...</td>\n",
              "      <td>...</td>\n",
              "      <td>...</td>\n",
              "      <td>...</td>\n",
              "      <td>...</td>\n",
              "      <td>...</td>\n",
              "      <td>...</td>\n",
              "      <td>...</td>\n",
              "    </tr>\n",
              "    <tr>\n",
              "      <th>17367580</th>\n",
              "      <td>1</td>\n",
              "      <td>banner</td>\n",
              "      <td>11262651416569394865</td>\n",
              "      <td>&lt;NA&gt;</td>\n",
              "      <td>&lt;NA&gt;</td>\n",
              "      <td>&lt;NA&gt;</td>\n",
              "      <td>&lt;NA&gt;</td>\n",
              "      <td>&lt;NA&gt;</td>\n",
              "      <td>1</td>\n",
              "      <td>1</td>\n",
              "      <td>70075</td>\n",
              "      <td>1593472880966000</td>\n",
              "    </tr>\n",
              "    <tr>\n",
              "      <th>17367581</th>\n",
              "      <td>4</td>\n",
              "      <td>NaN</td>\n",
              "      <td>11262651416569394865</td>\n",
              "      <td>&lt;NA&gt;</td>\n",
              "      <td>1</td>\n",
              "      <td>2</td>\n",
              "      <td>&lt;NA&gt;</td>\n",
              "      <td>&lt;NA&gt;</td>\n",
              "      <td>1</td>\n",
              "      <td>4</td>\n",
              "      <td>70075</td>\n",
              "      <td>1593472913191000</td>\n",
              "    </tr>\n",
              "    <tr>\n",
              "      <th>17367582</th>\n",
              "      <td>2</td>\n",
              "      <td>NaN</td>\n",
              "      <td>11262651416569394865</td>\n",
              "      <td>2,5</td>\n",
              "      <td>&lt;NA&gt;</td>\n",
              "      <td>&lt;NA&gt;</td>\n",
              "      <td>&lt;NA&gt;</td>\n",
              "      <td>1</td>\n",
              "      <td>1</td>\n",
              "      <td>3</td>\n",
              "      <td>70075</td>\n",
              "      <td>1593472912007000</td>\n",
              "    </tr>\n",
              "    <tr>\n",
              "      <th>17367583</th>\n",
              "      <td>2</td>\n",
              "      <td>NaN</td>\n",
              "      <td>11262651416569394865</td>\n",
              "      <td>2</td>\n",
              "      <td>&lt;NA&gt;</td>\n",
              "      <td>&lt;NA&gt;</td>\n",
              "      <td>&lt;NA&gt;</td>\n",
              "      <td>1</td>\n",
              "      <td>1</td>\n",
              "      <td>2</td>\n",
              "      <td>70075</td>\n",
              "      <td>1593472910894000</td>\n",
              "    </tr>\n",
              "    <tr>\n",
              "      <th>17367584</th>\n",
              "      <td>2</td>\n",
              "      <td>NaN</td>\n",
              "      <td>11262651416569394865</td>\n",
              "      <td>11</td>\n",
              "      <td>&lt;NA&gt;</td>\n",
              "      <td>&lt;NA&gt;</td>\n",
              "      <td>&lt;NA&gt;</td>\n",
              "      <td>2</td>\n",
              "      <td>1</td>\n",
              "      <td>5</td>\n",
              "      <td>70075</td>\n",
              "      <td>1593472917899000</td>\n",
              "    </tr>\n",
              "  </tbody>\n",
              "</table>\n",
              "<p>17367585 rows × 12 columns</p>\n",
              "</div>"
            ],
            "text/plain": [
              "          action_code campaign_type  ... survey_id                ts\n",
              "0                   2           NaN  ...     33073  1576770102414000\n",
              "1                   2           NaN  ...     33073  1576770222923000\n",
              "2                   1           NaN  ...     33073  1576769716990000\n",
              "3                   2           NaN  ...     33073  1576770222923000\n",
              "4                   2           NaN  ...     33073  1576770222923000\n",
              "...               ...           ...  ...       ...               ...\n",
              "17367580            1        banner  ...     70075  1593472880966000\n",
              "17367581            4           NaN  ...     70075  1593472913191000\n",
              "17367582            2           NaN  ...     70075  1593472912007000\n",
              "17367583            2           NaN  ...     70075  1593472910894000\n",
              "17367584            2           NaN  ...     70075  1593472917899000\n",
              "\n",
              "[17367585 rows x 12 columns]"
            ]
          },
          "metadata": {
            "tags": []
          },
          "execution_count": 62
        }
      ]
    },
    {
      "cell_type": "code",
      "metadata": {
        "id": "preOJgEZr_07",
        "colab_type": "code",
        "colab": {
          "base_uri": "https://localhost:8080/",
          "height": 282
        },
        "outputId": "5404198d-8923-4add-ce07-2287536b9ab0"
      },
      "source": [
        "df_revisions['revision_state'].hist()"
      ],
      "execution_count": null,
      "outputs": [
        {
          "output_type": "execute_result",
          "data": {
            "text/plain": [
              "<matplotlib.axes._subplots.AxesSubplot at 0x7f0949eab748>"
            ]
          },
          "metadata": {
            "tags": []
          },
          "execution_count": 29
        },
        {
          "output_type": "display_data",
          "data": {
            "image/png": "[encoded data removed]",
            "text/plain": [
              "<Figure size 432x288 with 1 Axes>"
            ]
          },
          "metadata": {
            "tags": [],
            "needs_background": "light"
          }
        }
      ]
    },
    {
      "cell_type": "markdown",
      "metadata": {
        "id": "3WnfMSQLglX1",
        "colab_type": "text"
      },
      "source": [
        "___"
      ]
    },
    {
      "cell_type": "code",
      "metadata": {
        "id": "-HRVTdGEb7QA",
        "colab_type": "code",
        "colab": {
          "base_uri": "https://localhost:8080/",
          "height": 34
        },
        "outputId": "a2a5a494-bf86-4cd8-f3e8-f3d93f4bdac9"
      },
      "source": [
        "len(df_surveys['survey_id'].unique()), df_surveys.shape"
      ],
      "execution_count": null,
      "outputs": [
        {
          "output_type": "execute_result",
          "data": {
            "text/plain": [
              "(2361, (2361, 11))"
            ]
          },
          "metadata": {
            "tags": []
          },
          "execution_count": 12
        }
      ]
    },
    {
      "cell_type": "code",
      "metadata": {
        "id": "-Yy-rqXU_314",
        "colab_type": "code",
        "colab": {
          "base_uri": "https://localhost:8080/",
          "height": 283
        },
        "outputId": "a914f362-a99a-4696-ea94-ab1321ed6b3f"
      },
      "source": [
        "df_surveys['audience_request_refined_type'].hist()"
      ],
      "execution_count": null,
      "outputs": [
        {
          "output_type": "execute_result",
          "data": {
            "text/plain": [
              "<matplotlib.axes._subplots.AxesSubplot at 0x7f8933838c18>"
            ]
          },
          "metadata": {
            "tags": []
          },
          "execution_count": 14
        },
        {
          "output_type": "display_data",
          "data": {
            "image/png": "[encoded data removed]",
            "text/plain": [
              "<Figure size 432x288 with 1 Axes>"
            ]
          },
          "metadata": {
            "tags": [],
            "needs_background": "light"
          }
        }
      ]
    },
    {
      "cell_type": "markdown",
      "metadata": {
        "id": "c_fRGEtk4PAd",
        "colab_type": "text"
      },
      "source": [
        "RESP_PARAMS - по демографии\n",
        "MEDIA_TARGETING - по интересам"
      ]
    },
    {
      "cell_type": "markdown",
      "metadata": {
        "id": "W1mScP7c7S9X",
        "colab_type": "text"
      },
      "source": [
        "____"
      ]
    },
    {
      "cell_type": "code",
      "metadata": {
        "id": "O-5HBqBn6g8t",
        "colab_type": "code",
        "colab": {
          "base_uri": "https://localhost:8080/",
          "height": 202
        },
        "outputId": "a74f8c26-eacc-431a-dcc2-dcda22402ccd"
      },
      "source": [
        "for amount in [20000, 10000, 5000, 1000, 500, 400, 300, 200, 100, 50, 10]:\n",
        "  print(f\"Amount of surveys with audience less than {amount}: {(df_surveys['audience_request_size'] < amount).sum()}\")"
      ],
      "execution_count": null,
      "outputs": [
        {
          "output_type": "stream",
          "text": [
            "Amount of surveys with audience less than 20000: 2342\n",
            "Amount of surveys with audience less than 10000: 2339\n",
            "Amount of surveys with audience less than 5000: 2339\n",
            "Amount of surveys with audience less than 1000: 2115\n",
            "Amount of surveys with audience less than 500: 1940\n",
            "Amount of surveys with audience less than 400: 1885\n",
            "Amount of surveys with audience less than 300: 1655\n",
            "Amount of surveys with audience less than 200: 1427\n",
            "Amount of surveys with audience less than 100: 2\n",
            "Amount of surveys with audience less than 50: 1\n",
            "Amount of surveys with audience less than 10: 0\n"
          ],
          "name": "stdout"
        }
      ]
    },
    {
      "cell_type": "markdown",
      "metadata": {
        "id": "i7jzSavj7Kay",
        "colab_type": "text"
      },
      "source": [
        "Охват аудитории от 200 до 500"
      ]
    },
    {
      "cell_type": "markdown",
      "metadata": {
        "id": "o3BfBjGt7VlZ",
        "colab_type": "text"
      },
      "source": [
        "___"
      ]
    },
    {
      "cell_type": "code",
      "metadata": {
        "id": "pIA0kc-OKBnF",
        "colab_type": "code",
        "colab": {
          "base_uri": "https://localhost:8080/",
          "height": 34
        },
        "outputId": "5e8169b0-d16e-4358-b7b7-cd96cdbe15be"
      },
      "source": [
        "(df_surveys['box_name'].isnull()).sum(), (~ df_surveys['box_name'].isnull()).sum()"
      ],
      "execution_count": null,
      "outputs": [
        {
          "output_type": "execute_result",
          "data": {
            "text/plain": [
              "(592, 1769)"
            ]
          },
          "metadata": {
            "tags": []
          },
          "execution_count": 42
        }
      ]
    },
    {
      "cell_type": "code",
      "metadata": {
        "id": "x_CRGX3-8l-o",
        "colab_type": "code",
        "colab": {
          "base_uri": "https://localhost:8080/",
          "height": 282
        },
        "outputId": "d479bc69-1948-46a7-a992-f8842637ed04"
      },
      "source": [
        "df_surveys['box_name'].hist()"
      ],
      "execution_count": null,
      "outputs": [
        {
          "output_type": "execute_result",
          "data": {
            "text/plain": [
              "<matplotlib.axes._subplots.AxesSubplot at 0x7f8932f156d8>"
            ]
          },
          "metadata": {
            "tags": []
          },
          "execution_count": 43
        },
        {
          "output_type": "display_data",
          "data": {
            "image/png": "[encoded data removed]",
            "text/plain": [
              "<Figure size 432x288 with 1 Axes>"
            ]
          },
          "metadata": {
            "tags": [],
            "needs_background": "light"
          }
        }
      ]
    },
    {
      "cell_type": "code",
      "metadata": {
        "id": "WzRxPSD58rmG",
        "colab_type": "code",
        "colab": {
          "base_uri": "https://localhost:8080/",
          "height": 67
        },
        "outputId": "fb620e23-6a3f-4507-83ea-588d51a5aab0"
      },
      "source": [
        "for name in ['videoBox', 'videoBoxKZ', 'brandLift']:\n",
        "  print(f\"Boxname {name}: {(df_surveys['box_name'] ==name).sum()}\")"
      ],
      "execution_count": null,
      "outputs": [
        {
          "output_type": "stream",
          "text": [
            "Boxname videoBox: 1748\n",
            "Boxname videoBoxKZ: 19\n",
            "Boxname brandLift: 2\n"
          ],
          "name": "stdout"
        }
      ]
    },
    {
      "cell_type": "markdown",
      "metadata": {
        "id": "sZtXUIyJ9HlT",
        "colab_type": "text"
      },
      "source": [
        "___"
      ]
    },
    {
      "cell_type": "code",
      "metadata": {
        "id": "Pdn9SzA2PIPC",
        "colab_type": "code",
        "colab": {
          "base_uri": "https://localhost:8080/",
          "height": 282
        },
        "outputId": "d9646a26-00a9-494a-e918-c1b282829369"
      },
      "source": [
        "df_surveys['revisions_count'].hist()"
      ],
      "execution_count": null,
      "outputs": [
        {
          "output_type": "execute_result",
          "data": {
            "text/plain": [
              "<matplotlib.axes._subplots.AxesSubplot at 0x7f89331ea208>"
            ]
          },
          "metadata": {
            "tags": []
          },
          "execution_count": 46
        },
        {
          "output_type": "display_data",
          "data": {
            "image/png": "[encoded data removed]",
            "text/plain": [
              "<Figure size 432x288 with 1 Axes>"
            ]
          },
          "metadata": {
            "tags": [],
            "needs_background": "light"
          }
        }
      ]
    },
    {
      "cell_type": "code",
      "metadata": {
        "id": "Yj3nQW689P7Q",
        "colab_type": "code",
        "colab": {
          "base_uri": "https://localhost:8080/",
          "height": 34
        },
        "outputId": "a5a94713-6bfb-4ee1-dcf8-e120eb98bf4e"
      },
      "source": [
        "(df_surveys['revisions_count'] > 11).sum()"
      ],
      "execution_count": null,
      "outputs": [
        {
          "output_type": "execute_result",
          "data": {
            "text/plain": [
              "37"
            ]
          },
          "metadata": {
            "tags": []
          },
          "execution_count": 54
        }
      ]
    },
    {
      "cell_type": "code",
      "metadata": {
        "id": "EKEln33eBgHw",
        "colab_type": "code",
        "colab": {
          "base_uri": "https://localhost:8080/",
          "height": 282
        },
        "outputId": "59cb525f-2452-4d12-bc91-c96427a883df"
      },
      "source": [
        "df_surveys[df_surveys['revisions_count'] < 11]['revisions_count'].hist()"
      ],
      "execution_count": null,
      "outputs": [
        {
          "output_type": "execute_result",
          "data": {
            "text/plain": [
              "<matplotlib.axes._subplots.AxesSubplot at 0x7f8932dfb9e8>"
            ]
          },
          "metadata": {
            "tags": []
          },
          "execution_count": 55
        },
        {
          "output_type": "display_data",
          "data": {
            "image/png": "[encoded data removed]",
            "text/plain": [
              "<Figure size 432x288 with 1 Axes>"
            ]
          },
          "metadata": {
            "tags": [],
            "needs_background": "light"
          }
        }
      ]
    },
    {
      "cell_type": "markdown",
      "metadata": {
        "id": "NZqT3EBW-HUO",
        "colab_type": "text"
      },
      "source": [
        "Наибольшее количество опросов с 2-5 ревизиями.\n",
        "___"
      ]
    },
    {
      "cell_type": "code",
      "metadata": {
        "id": "vOtXbS5--nqm",
        "colab_type": "code",
        "colab": {
          "base_uri": "https://localhost:8080/",
          "height": 35
        },
        "outputId": "11bd419e-0e6f-4425-ee99-db3dd4ecead2"
      },
      "source": [
        "df_surveys['targeting_age'].fillna('')"
      ],
      "execution_count": null,
      "outputs": [
        {
          "output_type": "execute_result",
          "data": {
            "application/vnd.google.colaboratory.intrinsic": {
              "type": "string"
            },
            "text/plain": [
              "''"
            ]
          },
          "metadata": {
            "tags": []
          },
          "execution_count": 70
        }
      ]
    },
    {
      "cell_type": "code",
      "metadata": {
        "id": "YZ_7BdTxASjb",
        "colab_type": "code",
        "colab": {
          "base_uri": "https://localhost:8080/",
          "height": 162
        },
        "outputId": "3efc6d2a-8795-47fa-ba77-d57b6ebdb0bf"
      },
      "source": [
        "pd.string"
      ],
      "execution_count": null,
      "outputs": [
        {
          "output_type": "error",
          "ename": "AttributeError",
          "evalue": "ignored",
          "traceback": [
            "\u001b[0;31m---------------------------------------------------------------------------\u001b[0m",
            "\u001b[0;31mAttributeError\u001b[0m                            Traceback (most recent call last)",
            "\u001b[0;32m<ipython-input-72-277d87bfa533>\u001b[0m in \u001b[0;36m<module>\u001b[0;34m()\u001b[0m\n\u001b[0;32m----> 1\u001b[0;31m \u001b[0mpd\u001b[0m\u001b[0;34m.\u001b[0m\u001b[0mstring\u001b[0m\u001b[0;34m\u001b[0m\u001b[0;34m\u001b[0m\u001b[0m\n\u001b[0m",
            "\u001b[0;31mAttributeError\u001b[0m: module 'pandas' has no attribute 'string'"
          ]
        }
      ]
    },
    {
      "cell_type": "code",
      "metadata": {
        "id": "3B_z_BIlQTrF",
        "colab_type": "code",
        "colab": {
          "base_uri": "https://localhost:8080/",
          "height": 118
        },
        "outputId": "01e5b81f-9735-44b8-a724-b0136bc0e6ab"
      },
      "source": [
        "for age in ['18_24','24_34','35_44','45_54','55_99']:\n",
        "  print(f\"Surveys with {age} age target: {(df_surveys['targeting_age'].str.contains(age)).sum()}\")\n",
        "print(f\"Surveys with nan age target: {(df_surveys['targeting_age'].isnull()).sum()}\")"
      ],
      "execution_count": null,
      "outputs": [
        {
          "output_type": "stream",
          "text": [
            "Surveys with 18_24 age target: 998\n",
            "Surveys with 24_34 age target: 1470\n",
            "Surveys with 35_44 age target: 1449\n",
            "Surveys with 45_54 age target: 1080\n",
            "Surveys with 55_99 age target: 738\n",
            "Surveys with nan age target: 591\n"
          ],
          "name": "stdout"
        }
      ]
    },
    {
      "cell_type": "code",
      "metadata": {
        "id": "gXEAj_P-CW6t",
        "colab_type": "code",
        "colab": {
          "base_uri": "https://localhost:8080/",
          "height": 101
        },
        "outputId": "7c03f1b9-ed19-4ffd-fe48-bf189f83af9c"
      },
      "source": [
        "for target in range(1,6):\n",
        "  print(f\"Surveys with {target} age targets: {(df_surveys['targeting_age'].str.len() == (target*5 + (target-1)*1)).sum()}\")"
      ],
      "execution_count": null,
      "outputs": [
        {
          "output_type": "stream",
          "text": [
            "Surveys with 1 age targets: 317\n",
            "Surveys with 2 age targets: 303\n",
            "Surveys with 3 age targets: 356\n",
            "Surveys with 4 age targets: 226\n",
            "Surveys with 5 age targets: 568\n"
          ],
          "name": "stdout"
        }
      ]
    },
    {
      "cell_type": "code",
      "metadata": {
        "id": "VCv4-L1GGpg7",
        "colab_type": "code",
        "colab": {}
      },
      "source": [
        "\n",
        "cnt = Counter()\n",
        "cnt['alal'] = 2"
      ],
      "execution_count": null,
      "outputs": []
    },
    {
      "cell_type": "markdown",
      "metadata": {
        "id": "htqrGyzvDDS0",
        "colab_type": "text"
      },
      "source": [
        "___"
      ]
    },
    {
      "cell_type": "code",
      "metadata": {
        "id": "QEpLn6GjCIO8",
        "colab_type": "code",
        "colab": {}
      },
      "source": [
        "from collections import Counter\n",
        "counter = Counter()\n",
        "df_surveys['targeting_geo'][~df_surveys['targeting_geo'].isnull()].apply(lambda x: counter.update(x.split(',')))"
      ],
      "execution_count": null,
      "outputs": []
    },
    {
      "cell_type": "code",
      "metadata": {
        "id": "lbRCck91IRk8",
        "colab_type": "code",
        "colab": {
          "base_uri": "https://localhost:8080/",
          "height": 470
        },
        "outputId": "c46c1c78-7d39-4d72-bc1e-c2e567236903"
      },
      "source": [
        "for key in counter.keys():\n",
        "  print(f\"Surveys with geo id {key}: {df_surveys['targeting_geo'].str.contains(key).sum()}\")"
      ],
      "execution_count": null,
      "outputs": [
        {
          "output_type": "stream",
          "text": [
            "Surveys with geo id 2: 1512\n",
            "Surveys with geo id 213: 524\n",
            "Surveys with geo id 225: 837\n",
            "Surveys with geo id 29404: 5\n",
            "Surveys with geo id 38: 61\n",
            "Surveys with geo id 193: 61\n",
            "Surveys with geo id 54: 100\n",
            "Surveys with geo id 43: 89\n",
            "Surveys with geo id 35: 77\n",
            "Surveys with geo id 62: 53\n",
            "Surveys with geo id 47: 72\n",
            "Surveys with geo id 65: 71\n",
            "Surveys with geo id 66: 52\n",
            "Surveys with geo id 50: 63\n",
            "Surveys with geo id 39: 69\n",
            "Surveys with geo id 51: 66\n",
            "Surveys with geo id 172: 62\n",
            "Surveys with geo id 56: 67\n",
            "Surveys with geo id 29403: 7\n",
            "Surveys with geo id 29406: 8\n",
            "Surveys with geo id 159: 4\n",
            "Surveys with geo id 29417: 4\n",
            "Surveys with geo id 29407: 4\n",
            "Surveys with geo id 29408: 4\n",
            "Surveys with geo id 29411: 4\n",
            "Surveys with geo id 29412: 4\n",
            "Surveys with geo id 29415: 4\n"
          ],
          "name": "stdout"
        }
      ]
    },
    {
      "cell_type": "code",
      "metadata": {
        "id": "YWVWuLbkHUS1",
        "colab_type": "code",
        "colab": {
          "base_uri": "https://localhost:8080/",
          "height": 282
        },
        "outputId": "70ac926b-5637-41f6-a9db-7c193c4fd2b0"
      },
      "source": [
        "(df_surveys['targeting_geo'][~df_surveys['targeting_geo'].isnull()].str.count(',') + 1).hist(bins=16)"
      ],
      "execution_count": null,
      "outputs": [
        {
          "output_type": "execute_result",
          "data": {
            "text/plain": [
              "<matplotlib.axes._subplots.AxesSubplot at 0x7f89309d35c0>"
            ]
          },
          "metadata": {
            "tags": []
          },
          "execution_count": 119
        },
        {
          "output_type": "display_data",
          "data": {
            "image/png": "[encoded data removed]",
            "text/plain": [
              "<Figure size 432x288 with 1 Axes>"
            ]
          },
          "metadata": {
            "tags": [],
            "needs_background": "light"
          }
        }
      ]
    },
    {
      "cell_type": "code",
      "metadata": {
        "id": "In0XUMU0LBXX",
        "colab_type": "code",
        "colab": {
          "base_uri": "https://localhost:8080/",
          "height": 34
        },
        "outputId": "6baaa560-adab-4f4c-f52d-5acc54c0b5b7"
      },
      "source": [
        "((df_surveys['targeting_geo'][~df_surveys['targeting_geo'].isnull()].str.count(',') + 1) > 8).sum(), \\\n",
        "((df_surveys['targeting_geo'][~df_surveys['targeting_geo'].isnull()].str.count(',') + 1) <= 1).sum(), \\\n",
        "((df_surveys['targeting_geo'][~df_surveys['targeting_geo'].isnull()].str.count(',') + 1) <= 2).sum(), \\\n",
        "((df_surveys['targeting_geo'][~df_surveys['targeting_geo'].isnull()].str.count(',') + 1) <= 8).sum()"
      ],
      "execution_count": null,
      "outputs": [
        {
          "output_type": "execute_result",
          "data": {
            "text/plain": [
              "(48, 1414, 1519, 1593)"
            ]
          },
          "metadata": {
            "tags": []
          },
          "execution_count": 126
        }
      ]
    },
    {
      "cell_type": "markdown",
      "metadata": {
        "id": "JDbQGVUXK9bK",
        "colab_type": "text"
      },
      "source": [
        "В основном опросы охватывают один регион. Малая часть опросов охватывают несколько регионов."
      ]
    },
    {
      "cell_type": "markdown",
      "metadata": {
        "id": "j6OP0U3HCItB",
        "colab_type": "text"
      },
      "source": [
        "_____________________________________"
      ]
    },
    {
      "cell_type": "code",
      "metadata": {
        "id": "yy2UJ1-JLt8h",
        "colab_type": "code",
        "colab": {
          "base_uri": "https://localhost:8080/",
          "height": 34
        },
        "outputId": "a532b106-70a1-4841-bd8e-374afdb3876f"
      },
      "source": [
        "df_surveys['targeting_gender'].isnull().sum()"
      ],
      "execution_count": null,
      "outputs": [
        {
          "output_type": "execute_result",
          "data": {
            "text/plain": [
              "1725"
            ]
          },
          "metadata": {
            "tags": []
          },
          "execution_count": 129
        }
      ]
    },
    {
      "cell_type": "code",
      "metadata": {
        "id": "RM6iJ2hUL2Rd",
        "colab_type": "code",
        "colab": {
          "base_uri": "https://localhost:8080/",
          "height": 34
        },
        "outputId": "714229dd-a83c-43b4-aea2-701981e047de"
      },
      "source": [
        "(df_surveys['targeting_gender'] == 'f').sum(), (df_surveys['targeting_gender'] == 'm').sum()"
      ],
      "execution_count": null,
      "outputs": [
        {
          "output_type": "execute_result",
          "data": {
            "text/plain": [
              "(316, 320)"
            ]
          },
          "metadata": {
            "tags": []
          },
          "execution_count": 135
        }
      ]
    },
    {
      "cell_type": "markdown",
      "metadata": {
        "id": "hOSE-4noMM5L",
        "colab_type": "text"
      },
      "source": [
        "В целом опросы не направлены на конкретный пол. Оставшиеся поровну разделились между полами.\n",
        "___"
      ]
    },
    {
      "cell_type": "code",
      "metadata": {
        "id": "OdeohwbjMcY_",
        "colab_type": "code",
        "colab": {
          "base_uri": "https://localhost:8080/",
          "height": 638
        },
        "outputId": "4b20ddc6-1fcb-44b8-a708-d1d7f1ca9772"
      },
      "source": [
        "for id in df_surveys['targeting_interest_id'].unique():\n",
        "  print(f\"Surveys with interest id {id}: {(df_surveys['targeting_interest_id']==id).sum()}\")"
      ],
      "execution_count": null,
      "outputs": [
        {
          "output_type": "stream",
          "text": [
            "Surveys with interest id <NA>: 0\n",
            "Surveys with interest id 210: 33\n",
            "Surveys with interest id 61: 9\n",
            "Surveys with interest id 128: 21\n",
            "Surveys with interest id 173: 86\n",
            "Surveys with interest id 4: 22\n",
            "Surveys with interest id 76: 21\n",
            "Surveys with interest id 115: 34\n",
            "Surveys with interest id 91: 28\n",
            "Surveys with interest id 14: 25\n",
            "Surveys with interest id 43: 12\n",
            "Surveys with interest id 6: 5\n",
            "Surveys with interest id 216: 9\n",
            "Surveys with interest id 34: 31\n",
            "Surveys with interest id 183: 41\n",
            "Surveys with interest id 55: 9\n",
            "Surveys with interest id 78: 27\n",
            "Surveys with interest id 176: 3\n",
            "Surveys with interest id 198: 4\n",
            "Surveys with interest id 225: 10\n",
            "Surveys with interest id 189: 5\n",
            "Surveys with interest id 87: 7\n",
            "Surveys with interest id 142: 3\n",
            "Surveys with interest id 146: 3\n",
            "Surveys with interest id 84: 6\n",
            "Surveys with interest id 141: 3\n",
            "Surveys with interest id 154: 2\n",
            "Surveys with interest id 171: 5\n",
            "Surveys with interest id 1: 10\n",
            "Surveys with interest id 148: 2\n",
            "Surveys with interest id 190: 1\n",
            "Surveys with interest id 112: 2\n",
            "Surveys with interest id 2: 10\n",
            "Surveys with interest id 202: 8\n",
            "Surveys with interest id 24: 10\n",
            "Surveys with interest id 192: 1\n",
            "Surveys with interest id 219: 1\n"
          ],
          "name": "stdout"
        }
      ]
    },
    {
      "cell_type": "markdown",
      "metadata": {
        "id": "eFkRaINONfs6",
        "colab_type": "text"
      },
      "source": [
        "___"
      ]
    },
    {
      "cell_type": "code",
      "metadata": {
        "id": "qBq3tBUPcBlK",
        "colab_type": "code",
        "colab": {
          "base_uri": "https://localhost:8080/",
          "height": 195
        },
        "outputId": "0f862f73-ee6c-40c3-c5c9-029fa0f1c826"
      },
      "source": [
        "df_events.head()"
      ],
      "execution_count": null,
      "outputs": [
        {
          "output_type": "execute_result",
          "data": {
            "text/html": [
              "<div>\n",
              "<style scoped>\n",
              "    .dataframe tbody tr th:only-of-type {\n",
              "        vertical-align: middle;\n",
              "    }\n",
              "\n",
              "    .dataframe tbody tr th {\n",
              "        vertical-align: top;\n",
              "    }\n",
              "\n",
              "    .dataframe thead th {\n",
              "        text-align: right;\n",
              "    }\n",
              "</style>\n",
              "<table border=\"1\" class=\"dataframe\">\n",
              "  <thead>\n",
              "    <tr style=\"text-align: right;\">\n",
              "      <th></th>\n",
              "      <th>action_code</th>\n",
              "      <th>campaign_type</th>\n",
              "      <th>interview_id</th>\n",
              "      <th>option_ids</th>\n",
              "      <th>page_from</th>\n",
              "      <th>page_to</th>\n",
              "      <th>question_answer_text</th>\n",
              "      <th>question_id</th>\n",
              "      <th>revision_id</th>\n",
              "      <th>seq_num</th>\n",
              "      <th>survey_id</th>\n",
              "      <th>ts</th>\n",
              "    </tr>\n",
              "  </thead>\n",
              "  <tbody>\n",
              "    <tr>\n",
              "      <th>0</th>\n",
              "      <td>2</td>\n",
              "      <td>NaN</td>\n",
              "      <td>2.297027e+17</td>\n",
              "      <td>20</td>\n",
              "      <td>NaN</td>\n",
              "      <td>NaN</td>\n",
              "      <td>NaN</td>\n",
              "      <td>9.0</td>\n",
              "      <td>2.0</td>\n",
              "      <td>20</td>\n",
              "      <td>33073</td>\n",
              "      <td>1576770102414000</td>\n",
              "    </tr>\n",
              "    <tr>\n",
              "      <th>1</th>\n",
              "      <td>2</td>\n",
              "      <td>NaN</td>\n",
              "      <td>2.297027e+17</td>\n",
              "      <td>107</td>\n",
              "      <td>NaN</td>\n",
              "      <td>NaN</td>\n",
              "      <td>NaN</td>\n",
              "      <td>20.0</td>\n",
              "      <td>2.0</td>\n",
              "      <td>25</td>\n",
              "      <td>33073</td>\n",
              "      <td>1576770222923000</td>\n",
              "    </tr>\n",
              "    <tr>\n",
              "      <th>2</th>\n",
              "      <td>1</td>\n",
              "      <td>NaN</td>\n",
              "      <td>2.297027e+17</td>\n",
              "      <td>NaN</td>\n",
              "      <td>NaN</td>\n",
              "      <td>NaN</td>\n",
              "      <td>NaN</td>\n",
              "      <td>NaN</td>\n",
              "      <td>2.0</td>\n",
              "      <td>1</td>\n",
              "      <td>33073</td>\n",
              "      <td>1576769716990000</td>\n",
              "    </tr>\n",
              "    <tr>\n",
              "      <th>3</th>\n",
              "      <td>2</td>\n",
              "      <td>NaN</td>\n",
              "      <td>2.297027e+17</td>\n",
              "      <td>NaN</td>\n",
              "      <td>NaN</td>\n",
              "      <td>NaN</td>\n",
              "      <td>40</td>\n",
              "      <td>1.0</td>\n",
              "      <td>2.0</td>\n",
              "      <td>25</td>\n",
              "      <td>33073</td>\n",
              "      <td>1576770222923000</td>\n",
              "    </tr>\n",
              "    <tr>\n",
              "      <th>4</th>\n",
              "      <td>2</td>\n",
              "      <td>NaN</td>\n",
              "      <td>2.297027e+17</td>\n",
              "      <td>1</td>\n",
              "      <td>NaN</td>\n",
              "      <td>NaN</td>\n",
              "      <td>NaN</td>\n",
              "      <td>2.0</td>\n",
              "      <td>2.0</td>\n",
              "      <td>25</td>\n",
              "      <td>33073</td>\n",
              "      <td>1576770222923000</td>\n",
              "    </tr>\n",
              "  </tbody>\n",
              "</table>\n",
              "</div>"
            ],
            "text/plain": [
              "   action_code campaign_type  ...  survey_id                ts\n",
              "0            2           NaN  ...      33073  1576770102414000\n",
              "1            2           NaN  ...      33073  1576770222923000\n",
              "2            1           NaN  ...      33073  1576769716990000\n",
              "3            2           NaN  ...      33073  1576770222923000\n",
              "4            2           NaN  ...      33073  1576770222923000\n",
              "\n",
              "[5 rows x 12 columns]"
            ]
          },
          "metadata": {
            "tags": []
          },
          "execution_count": 20
        }
      ]
    },
    {
      "cell_type": "code",
      "metadata": {
        "id": "R4y5vqPalKoo",
        "colab_type": "code",
        "colab": {
          "base_uri": "https://localhost:8080/",
          "height": 195
        },
        "outputId": "c2de4801-5efc-4b56-e51c-750b3c900ab5"
      },
      "source": [
        "df_orders.head()"
      ],
      "execution_count": null,
      "outputs": [
        {
          "output_type": "execute_result",
          "data": {
            "text/html": [
              "<div>\n",
              "<style scoped>\n",
              "    .dataframe tbody tr th:only-of-type {\n",
              "        vertical-align: middle;\n",
              "    }\n",
              "\n",
              "    .dataframe tbody tr th {\n",
              "        vertical-align: top;\n",
              "    }\n",
              "\n",
              "    .dataframe thead th {\n",
              "        text-align: right;\n",
              "    }\n",
              "</style>\n",
              "<table border=\"1\" class=\"dataframe\">\n",
              "  <thead>\n",
              "    <tr style=\"text-align: right;\">\n",
              "      <th></th>\n",
              "      <th>campaign_type</th>\n",
              "      <th>supplier_id</th>\n",
              "      <th>supplier_order_created_at</th>\n",
              "      <th>supplier_order_updated_at</th>\n",
              "      <th>survey_id</th>\n",
              "    </tr>\n",
              "  </thead>\n",
              "  <tbody>\n",
              "    <tr>\n",
              "      <th>0</th>\n",
              "      <td>NaN</td>\n",
              "      <td>1</td>\n",
              "      <td>1576753229</td>\n",
              "      <td>1576753230</td>\n",
              "      <td>33073</td>\n",
              "    </tr>\n",
              "    <tr>\n",
              "      <th>1</th>\n",
              "      <td>NaN</td>\n",
              "      <td>2</td>\n",
              "      <td>1567496013</td>\n",
              "      <td>1567496017</td>\n",
              "      <td>33931</td>\n",
              "    </tr>\n",
              "    <tr>\n",
              "      <th>2</th>\n",
              "      <td>NaN</td>\n",
              "      <td>2</td>\n",
              "      <td>1567519511</td>\n",
              "      <td>1567519514</td>\n",
              "      <td>33990</td>\n",
              "    </tr>\n",
              "    <tr>\n",
              "      <th>3</th>\n",
              "      <td>NaN</td>\n",
              "      <td>2</td>\n",
              "      <td>1567604801</td>\n",
              "      <td>1567604805</td>\n",
              "      <td>34070</td>\n",
              "    </tr>\n",
              "    <tr>\n",
              "      <th>4</th>\n",
              "      <td>NaN</td>\n",
              "      <td>2</td>\n",
              "      <td>1568277075</td>\n",
              "      <td>1568277077</td>\n",
              "      <td>34640</td>\n",
              "    </tr>\n",
              "  </tbody>\n",
              "</table>\n",
              "</div>"
            ],
            "text/plain": [
              "   campaign_type  supplier_id  ...  supplier_order_updated_at  survey_id\n",
              "0            NaN            1  ...                 1576753230      33073\n",
              "1            NaN            2  ...                 1567496017      33931\n",
              "2            NaN            2  ...                 1567519514      33990\n",
              "3            NaN            2  ...                 1567604805      34070\n",
              "4            NaN            2  ...                 1568277077      34640\n",
              "\n",
              "[5 rows x 5 columns]"
            ]
          },
          "metadata": {
            "tags": []
          },
          "execution_count": 21
        }
      ]
    },
    {
      "cell_type": "code",
      "metadata": {
        "id": "wMMbFcyolLsH",
        "colab_type": "code",
        "colab": {
          "base_uri": "https://localhost:8080/",
          "height": 464
        },
        "outputId": "db56f37a-f21f-4f34-e7b2-a3e25efef6d1"
      },
      "source": [
        "df_revisions.head()"
      ],
      "execution_count": null,
      "outputs": [
        {
          "output_type": "execute_result",
          "data": {
            "text/html": [
              "<div>\n",
              "<style scoped>\n",
              "    .dataframe tbody tr th:only-of-type {\n",
              "        vertical-align: middle;\n",
              "    }\n",
              "\n",
              "    .dataframe tbody tr th {\n",
              "        vertical-align: top;\n",
              "    }\n",
              "\n",
              "    .dataframe thead th {\n",
              "        text-align: right;\n",
              "    }\n",
              "</style>\n",
              "<table border=\"1\" class=\"dataframe\">\n",
              "  <thead>\n",
              "    <tr style=\"text-align: right;\">\n",
              "      <th></th>\n",
              "      <th>Unnamed: 0</th>\n",
              "      <th>survey_id</th>\n",
              "      <th>revision_id</th>\n",
              "      <th>groups_count</th>\n",
              "      <th>activated_at</th>\n",
              "      <th>page_order</th>\n",
              "      <th>revision_state</th>\n",
              "      <th>groups</th>\n",
              "      <th>questions_count</th>\n",
              "      <th>created_at</th>\n",
              "      <th>widgets_count</th>\n",
              "      <th>resp_reuse</th>\n",
              "      <th>str_questions</th>\n",
              "    </tr>\n",
              "  </thead>\n",
              "  <tbody>\n",
              "    <tr>\n",
              "      <th>0</th>\n",
              "      <td>0</td>\n",
              "      <td>33073</td>\n",
              "      <td>1</td>\n",
              "      <td>9</td>\n",
              "      <td>NaN</td>\n",
              "      <td>[1.0, 2.0, 3.0, 5.0, 6.0, 8.0, 9.0, 10.0, 12.0]</td>\n",
              "      <td>DRAFT</td>\n",
              "      <td>{\"1\": {\"children\": [{\"id\": 1.0, \"type\": \"quest...</td>\n",
              "      <td>13</td>\n",
              "      <td>1566402470</td>\n",
              "      <td>2</td>\n",
              "      <td>NaN</td>\n",
              "      <td>{\"1\": {\"id\": 1.0, \"label\": \"## Сколько вам лет...</td>\n",
              "    </tr>\n",
              "    <tr>\n",
              "      <th>1</th>\n",
              "      <td>1</td>\n",
              "      <td>33073</td>\n",
              "      <td>2</td>\n",
              "      <td>9</td>\n",
              "      <td>1.576753e+09</td>\n",
              "      <td>[1.0, 2.0, 3.0, 5.0, 6.0, 8.0, 9.0, 10.0, 12.0]</td>\n",
              "      <td>ACTIVE</td>\n",
              "      <td>{\"1\": {\"children\": [{\"id\": 1.0, \"type\": \"quest...</td>\n",
              "      <td>13</td>\n",
              "      <td>1576071425</td>\n",
              "      <td>2</td>\n",
              "      <td>NaN</td>\n",
              "      <td>{\"1\": {\"id\": 1.0, \"label\": \"## Сколько вам лет...</td>\n",
              "    </tr>\n",
              "    <tr>\n",
              "      <th>2</th>\n",
              "      <td>2</td>\n",
              "      <td>33073</td>\n",
              "      <td>3</td>\n",
              "      <td>9</td>\n",
              "      <td>NaN</td>\n",
              "      <td>[1.0, 2.0, 3.0, 5.0, 6.0, 8.0, 9.0, 10.0, 12.0]</td>\n",
              "      <td>DRAFT</td>\n",
              "      <td>{\"1\": {\"children\": [{\"id\": 1.0, \"type\": \"quest...</td>\n",
              "      <td>13</td>\n",
              "      <td>1576752983</td>\n",
              "      <td>2</td>\n",
              "      <td>NaN</td>\n",
              "      <td>{\"1\": {\"id\": 1.0, \"label\": \"## Сколько вам лет...</td>\n",
              "    </tr>\n",
              "    <tr>\n",
              "      <th>3</th>\n",
              "      <td>3</td>\n",
              "      <td>33931</td>\n",
              "      <td>1</td>\n",
              "      <td>3</td>\n",
              "      <td>1.567496e+09</td>\n",
              "      <td>[1.0, 2.0, 3.0]</td>\n",
              "      <td>ACTIVE</td>\n",
              "      <td>{\"1\": {\"children\": [{\"id\": 1.0, \"type\": \"widge...</td>\n",
              "      <td>6</td>\n",
              "      <td>1567495718</td>\n",
              "      <td>2</td>\n",
              "      <td>NaN</td>\n",
              "      <td>{\"10\": {\"id\": 10.0, \"label\": \"Вопрос 10\", \"max...</td>\n",
              "    </tr>\n",
              "    <tr>\n",
              "      <th>4</th>\n",
              "      <td>4</td>\n",
              "      <td>33931</td>\n",
              "      <td>2</td>\n",
              "      <td>3</td>\n",
              "      <td>NaN</td>\n",
              "      <td>[1.0, 2.0, 3.0]</td>\n",
              "      <td>DRAFT</td>\n",
              "      <td>{\"1\": {\"children\": [{\"id\": 1.0, \"type\": \"widge...</td>\n",
              "      <td>6</td>\n",
              "      <td>1582622204</td>\n",
              "      <td>2</td>\n",
              "      <td>NaN</td>\n",
              "      <td>{\"10\": {\"id\": 10.0, \"label\": \"Вопрос 10\", \"max...</td>\n",
              "    </tr>\n",
              "  </tbody>\n",
              "</table>\n",
              "</div>"
            ],
            "text/plain": [
              "   Unnamed: 0  ...                                      str_questions\n",
              "0           0  ...  {\"1\": {\"id\": 1.0, \"label\": \"## Сколько вам лет...\n",
              "1           1  ...  {\"1\": {\"id\": 1.0, \"label\": \"## Сколько вам лет...\n",
              "2           2  ...  {\"1\": {\"id\": 1.0, \"label\": \"## Сколько вам лет...\n",
              "3           3  ...  {\"10\": {\"id\": 10.0, \"label\": \"Вопрос 10\", \"max...\n",
              "4           4  ...  {\"10\": {\"id\": 10.0, \"label\": \"Вопрос 10\", \"max...\n",
              "\n",
              "[5 rows x 13 columns]"
            ]
          },
          "metadata": {
            "tags": []
          },
          "execution_count": 36
        }
      ]
    },
    {
      "cell_type": "code",
      "metadata": {
        "id": "fZnF9bFN51SG",
        "colab_type": "code",
        "colab": {
          "base_uri": "https://localhost:8080/",
          "height": 590
        },
        "outputId": "b29eceba-a80f-4552-ce97-e4dd4887dc3b"
      },
      "source": [
        "df_revisions.iloc[0]['str_questions']"
      ],
      "execution_count": null,
      "outputs": [
        {
          "output_type": "execute_result",
          "data": {
            "application/vnd.google.colaboratory.intrinsic": {
              "type": "string"
            },
            "text/plain": [
              "'{\"1\": {\"id\": 1.0, \"label\": \"## Сколько вам лет?\", \"maxValue\": 65.0, \"minValue\": 16.0, \"required\": true, \"type\": \"number\"}, \"13\": {\"id\": 13.0, \"label\": \"Вопрос 13\", \"maxAnswerCount\": 0.0, \"multipleChoice\": true, \"noAnswer\": {\"enabled\": false, \"label\": \"Ничего из перечисленного\"}, \"noOpinionAnswer\": {\"enabled\": false, \"label\": \"Затрудняюсь ответить\"}, \"options\": [{\"id\": 55.0, \"label\": \"Вариант 55\"}, {\"id\": 56.0, \"label\": \"Вариант 56\"}, {\"id\": 57.0, \"label\": \"Вариант 57\"}, {\"id\": 58.0, \"label\": \"Вариант 58\"}, {\"id\": 59.0, \"label\": \"Вариант 59\"}, {\"id\": 60.0, \"label\": \"Вариант 60\"}, {\"id\": 61.0, \"label\": \"Вариант 61\"}, {\"id\": 62.0, \"label\": \"Вариант 62\"}, {\"id\": 63.0, \"label\": \"Вариант 63\"}, {\"id\": 64.0, \"label\": \"Вариант 64\"}, {\"id\": 65.0, \"label\": \"Вариант 65\"}, {\"id\": 66.0, \"label\": \"Вариант 66\"}, {\"id\": 67.0, \"label\": \"Вариант 67\"}], \"otherAnswer\": {\"enabled\": false, \"label\": \"Другое\"}, \"otherAnswerWithText\": {\"enabled\": true, \"label\": \"Другое (впишите свой вариант)\"}, \"required\": true, \"rotation\": true, \"type\": \"choice\"}, \"14\": {\"id\": 14.0, \"label\": \"Вопрос 14\", \"maxAnswerCount\": 0.0, \"multipleChoice\": false, \"noAnswer\": {\"enabled\": false, \"label\": \"Ничего из перечисленного\"}, \"noOpinionAnswer\": {\"enabled\": true, \"label\": \"Затрудняюсь ответить\"}, \"options\": [{\"id\": 68.0, \"label\": \"Да\"}, {\"id\": 69.0, \"label\": \"Нет\"}], \"otherAnswer\": {\"enabled\": false, \"label\": \"Другое\"}, \"otherAnswerWithText\": {\"enabled\": false, \"label\": \"Другое (впишите свой вариант)\"}, \"required\": true, \"rotation\": false, \"type\": \"choice\"}, \"16\": {\"id\": 16.0, \"label\": \"Вопрос 16\", \"required\": true, \"type\": \"longText\"}, \"2\": {\"id\": 2.0, \"label\": \"## Ваш пол\", \"maxAnswerCount\": 0.0, \"multipleChoice\": false, \"noAnswer\": {\"enabled\": false, \"label\": \"Ничего из перечисленного\"}, \"noOpinionAnswer\": {\"enabled\": false, \"label\": \"Затрудняюсь ответить\"}, \"options\": [{\"id\": 1.0, \"label\": \"Муж\"}, {\"id\": 2.0, \"label\": \"Жен\"}], \"otherAnswer\": {\"enabled\": false, \"label\": \"Другое\"}, \"otherAnswerWithText\": {\"enabled\": true, \"label\": \"Другое (впишите свой вариант)\"}, \"required\": true, \"rotation\": false, \"type\": \"choice\"}, \"20\": {\"id\": 20.0, \"label\": \"Вопрос 20\", \"maxAnswerCount\": 0.0, \"multipleChoice\": false, \"noAnswer\": {\"enabled\": true, \"label\": \"Ничего из перечисленного\"}, \"noOpinionAnswer\": {\"enabled\": false, \"label\": \"Затрудняюсь ответить\"}, \"options\": [{\"id\": 74.0, \"label\": \"Вариант 74\"}, {\"id\": 75.0, \"label\": \"Вариант 75\"}, {\"id\": 76.0, \"label\": \"Вариант 76\"}, {\"id\": 107.0, \"label\": \"Вариант 107\"}], \"otherAnswer\": {\"enabled\": false, \"label\": \"Другое\"}, \"otherAnswerWithText\": {\"enabled\": false, \"label\": \"Другое (впишите свой вариант)\"}, \"required\": true, \"rotation\": true, \"type\": \"choice\"}, \"22\": {\"id\": 22.0, \"label\": \"Вопрос 22\", \"required\": true, \"type\": \"longText\"}, \"23\": {\"id\": 23.0, \"label\": \"Вопрос 23\", \"maxAnswerCount\": 0.0, \"multipleChoice\": false, \"noAnswer\": {\"enabled\": true, \"label\": \"Ничего из перечисленного\"}, \"noOpinionAnswer\": {\"enabled\": false, \"label\": \"Затрудняюсь ответить\"}, \"options\": [{\"id\": 90.0, \"label\": \"Вариант 90\"}, {\"id\": 91.0, \"label\": \"Вариант 91\"}, {\"id\": 92.0, \"label\": \"Вариант 92\"}, {\"id\": 106.0, \"label\": \"Вариант 106\"}], \"otherAnswer\": {\"enabled\": false, \"label\": \"Другое\"}, \"otherAnswerWithText\": {\"enabled\": false, \"label\": \"Другое (впишите свой вариант)\"}, \"required\": true, \"rotation\": true, \"type\": \"choice\"}, \"24\": {\"id\": 24.0, \"label\": \"Вопрос 24\", \"maxAnswerCount\": 0.0, \"multipleChoice\": true, \"noAnswer\": {\"enabled\": false, \"label\": \"Ничего из перечисленного\"}, \"noOpinionAnswer\": {\"enabled\": false, \"label\": \"Затрудняюсь ответить\"}, \"options\": [{\"id\": 93.0, \"label\": \"Вариант 93\"}, {\"id\": 94.0, \"label\": \"Вариант 94\"}, {\"id\": 95.0, \"label\": \"Вариант 95\"}, {\"id\": 96.0, \"label\": \"Вариант 96\"}, {\"id\": 97.0, \"label\": \"Вариант 97\"}, {\"id\": 98.0, \"label\": \"Вариант 98\"}, {\"id\": 99.0, \"label\": \"Вариант 99\"}, {\"id\": 100.0, \"label\": \"Вариант 100\"}, {\"id\": 101.0, \"label\": \"Вариант 101\"}, {\"id\": 102.0, \"label\": \"Вариант 102\"}, {\"id\": 103.0, \"label\": \"Вариант 103\"}, {\"id\": 104.0, \"label\": \"Вариант 104\"}, {\"id\": 105.0, \"label\": \"Вариант 105\"}], \"otherAnswer\": {\"enabled\": false, \"label\": \"Другое\"}, \"otherAnswerWithText\": {\"enabled\": true, \"label\": \"Другое (впишите свой вариант)\"}, \"required\": true, \"rotation\": true, \"type\": \"choice\"}, \"25\": {\"id\": 25.0, \"label\": \"Вопрос 25\", \"required\": true, \"type\": \"longText\"}, \"3\": {\"id\": 3.0, \"label\": \"Вопрос 3\", \"maxAnswerCount\": 0.0, \"multipleChoice\": false, \"noAnswer\": {\"enabled\": false, \"label\": \"Ничего из перечисленного\"}, \"noOpinionAnswer\": {\"enabled\": false, \"label\": \"Затрудняюсь ответить\"}, \"options\": [{\"id\": 3.0, \"label\": \"Вариант 3\"}, {\"id\": 4.0, \"label\": \"Вариант 4\"}, {\"id\": 5.0, \"label\": \"Вариант 5\"}, {\"id\": 6.0, \"label\": \"Вариант 6\"}, {\"id\": 7.0, \"label\": \"Вариант 7\"}, {\"id\": 8.0, \"label\": \"Вариант 8\"}, {\"id\": 9.0, \"label\": \"Никогда\"}], \"otherAnswer\": {\"enabled\": false, \"label\": \"Другое\"}, \"otherAnswerWithText\": {\"enabled\": true, \"label\": \"Другое (впишите свой вариант)\"}, \"required\": true, \"rotation\": false, \"type\": \"choice\"}, \"4\": {\"id\": 4.0, \"label\": \"Вопрос 4\", \"required\": true, \"type\": \"shortText\"}, \"9\": {\"id\": 9.0, \"label\": \"Вопрос 9\", \"maxAnswerCount\": 0.0, \"multipleChoice\": true, \"noAnswer\": {\"enabled\": false, \"label\": \"Ничего из перечисленного\"}, \"noOpinionAnswer\": {\"enabled\": false, \"label\": \"Затрудняюсь ответить\"}, \"options\": [{\"id\": 14.0, \"label\": \"Вариант 14\"}, {\"id\": 15.0, \"label\": \"Вариант 15\"}, {\"id\": 18.0, \"label\": \"Вариант 18\"}, {\"id\": 19.0, \"label\": \"Вариант 19\"}, {\"id\": 20.0, \"label\": \"Вариант 20\"}, {\"id\": 21.0, \"label\": \"Вариант 21\"}, {\"id\": 22.0, \"label\": \"Вариант 22\"}, {\"id\": 23.0, \"label\": \"Вариант 23\"}, {\"id\": 24.0, \"label\": \"Вариант 24\"}, {\"id\": 25.0, \"label\": \"Вариант 25\"}, {\"id\": 26.0, \"label\": \"Вариант 26\"}, {\"id\": 27.0, \"label\": \"Вариант 27\"}, {\"id\": 28.0, \"label\": \"Вариант 28\"}], \"otherAnswer\": {\"enabled\": false, \"label\": \"Другое\"}, \"otherAnswerWithText\": {\"enabled\": true, \"label\": \"Другое (впишите свой вариант)\"}, \"required\": true, \"rotation\": true, \"type\": \"choice\"}}'"
            ]
          },
          "metadata": {
            "tags": []
          },
          "execution_count": 38
        }
      ]
    },
    {
      "cell_type": "code",
      "metadata": {
        "id": "BnzwEKzC_Pkf",
        "colab_type": "code",
        "colab": {}
      },
      "source": [
        ""
      ],
      "execution_count": null,
      "outputs": []
    },
    {
      "cell_type": "markdown",
      "metadata": {
        "id": "6L34nylNsW0C",
        "colab_type": "text"
      },
      "source": [
        "#@Теоретические мысли"
      ]
    },
    {
      "cell_type": "markdown",
      "metadata": {
        "id": "6edSZTytsfx5",
        "colab_type": "text"
      },
      "source": [
        "X - случайная величина времени ответа пользователя и параметров вопроса. $z$ - ненаблюдаемой латентный вектор. $P(z|X)$ - апостерирорная вероятность латентной переменной, ненаблюдаемая величина. \n",
        "\n",
        "$Q(z|X) = N(z| \\mu(X, \\theta), \\Sigma(X, \\theta))$ - выучиваемое нами распределение, выдающую область наиболее вероятных латентных векторов z, которые порождают вектор X, $\\mu(X, \\theta), \\Sigma(X, \\theta)$ - нейросети. \n",
        "\n",
        "$P(X | z) = N(X|f(z;\\theta), \\sigma^2 \\cdot I)$ - перекладываем сложность распределения на обучаемую функцию $f(z;\\theta)$ - нейросеть.\n",
        "\n",
        "$P(z) = N(0;I)$ - латетный вектор распределен нормально.\n",
        "\n",
        "$$ \\log P(X) - D_{KL} \\left[ Q(z| X) || P(z|X)\\right] = E_{z \\sim Q}[\\log P(X | z)] -D_{KL} \\left[Q(z|X) || P(z) \\right]$$\n",
        "\n",
        "$$D_{KL}\\left[N(\\mu(X), \\Sigma(X))|| N(0, I)\\right] = \\frac{1}{2}(tr(\\Sigma(X)) +(\\mu(X))^T(\\mu(X)) -k - \\log {det(\\Sigma(X))})$$\n",
        "Используя \"трюк с параметризацией\": $$z \\sim \\mu(X) + (\\Sigma(X))^{\\frac 1 2} \\cdot \\epsilon, \\epsilon \\sim N(0;I)$$\n",
        "\n",
        "https://arxiv.org/pdf/1606.05908.pdf"
      ]
    },
    {
      "cell_type": "code",
      "metadata": {
        "id": "g6cTKOUOseil",
        "colab_type": "code",
        "colab": {}
      },
      "source": [
        "import keras, keras.layers as L\n",
        "import keras.applications as zoo\n",
        "from scipy.stats import multivariate_normal\n",
        "\n",
        "\n",
        "z_dimension = 10\n",
        "p_x_z_dimension = 10\n",
        "\n",
        "def mu_nn(x):\n",
        "  pass\n",
        "\n",
        "def sigma_nn(x):\n",
        "  pass\n",
        "\n",
        "def sample_z(x):\n",
        "  mu = mu_nn(x)\n",
        "  sigma = sigma_nn(x)**0.5\n",
        "  return mu + np.matmul(np.random.normal(size = z_dimension), sigma)\n",
        "\n",
        "###\n",
        "\n",
        "\n",
        "def f(z):\n",
        "  pass\n",
        "\n",
        "normal_distr = multivariate_normal([0]*p_x_z_dimension)\n",
        "def p_x_loss(z, x):\n",
        "  f_z = f(z)\n",
        "  mu = f_z[:,:p_x_z_dimension]\n",
        "  sigma = f_z[:, p_x_z_dimension:]\n",
        "  x_normalized = (x - mu)/np.matmul(np.random.normal(size = p_x_z_dimension), sigma)\n",
        "  return normal_distr.pdf(x_normalized)\n",
        "\n",
        "def kl_loss(x, mu, sigma):\n",
        "  return 0.5*(sigma.sum(axis=1) + np.dot(mu, mu) - z_dimension - np.log(np.prod(sigma, axis=1)))\n"
      ],
      "execution_count": null,
      "outputs": []
    },
    {
      "cell_type": "code",
      "metadata": {
        "id": "6JPHrhL7-MJ4",
        "colab_type": "code",
        "colab": {}
      },
      "source": [
        "from scipy.stats import norm\n"
      ],
      "execution_count": null,
      "outputs": []
    },
    {
      "cell_type": "code",
      "metadata": {
        "id": "AAXPpWd8-Ma3",
        "colab_type": "code",
        "colab": {
          "base_uri": "https://localhost:8080/",
          "height": 34
        },
        "outputId": "ade8f0c6-714e-45f0-b876-9e310c7c77c2"
      },
      "source": [
        "multivariate_normal([0]*2).pdf([0,0])"
      ],
      "execution_count": null,
      "outputs": [
        {
          "output_type": "execute_result",
          "data": {
            "text/plain": [
              "0.15915494309189535"
            ]
          },
          "metadata": {
            "tags": []
          },
          "execution_count": 20
        }
      ]
    },
    {
      "cell_type": "code",
      "metadata": {
        "id": "wagVcptn-m3w",
        "colab_type": "code",
        "colab": {}
      },
      "source": [
        ""
      ],
      "execution_count": null,
      "outputs": []
    }
  ]
}